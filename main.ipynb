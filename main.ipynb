{
 "cells": [
  {
   "cell_type": "markdown",
   "metadata": {},
   "source": [
    "## Question\n",
    "\n",
    "The dataset contains text of online travel reviews (in Column Review) with an associated Rating (column Overall_Rating). \n",
    "The objective is to train a classifier to predict the rating from the Review text. \n",
    "You are free to choose the model's architecture, but you should describe and justify your design choices.\n",
    "Train the model and assess it as appropriate in machine learning. You are allowed to preprocess the data however you want \n",
    "(e.g. using pretrained embeddings, dropping some features, just a bag-of-words), but the predictive model must be trained \n",
    "by yourself from scratch (no pretrained predictor). "
   ]
  },
  {
   "cell_type": "markdown",
   "metadata": {},
   "source": [
    "### Problem definition\n",
    "- ***Dataset***: Online travel reviews with their corresponding ratings\n",
    "- ***Inputs***: Travel reviews\n",
    "- ***Output***: Predict the rating from the review\n",
    "\n",
    "We are training a classifier to predict the rating from the review text"
   ]
  },
  {
   "cell_type": "markdown",
   "metadata": {},
   "source": [
    "### Step by step.\n",
    "- **Load data**\n",
    "    - *loading the data*\n",
    "    - *splitting the data into train and test*\n",
    "- **Data preprocessing**\n",
    "    - **Text cleaning:** *Remove noise(pactuation, stopwords)*\n",
    "    - **Text normalization:** *Lowercasing, Stemming, Lemmantization*\n",
    "    - **Tokenization:** *Split text into words, or subwords, or characters*\n",
    "- **Feature extraction/embeddings**\n",
    "    - *Bag of words*\n",
    "    - *TF-IDF*\n",
    "- **Model Selection**\n",
    "    - *Naive Bayes classifier*\n",
    "- **Model Training**\n",
    "    - *Train on the tain dataset*\n",
    "    - *Monitor loss and accuracy on validation dataset*\n",
    "    - **Techniques**\n",
    "        - *Hyperparameter tuning*\n",
    "        - *Cross validation*\n",
    "        - *Regularization(dropout, weight decay)*\n",
    "    - *Train on the tain dataset*\n",
    "- **Model evaluation**\n",
    "    - **Metrics**\n",
    "        - *Accuracy, precision, recall, f1 score*\n",
    "        - *Confusion matrix*"
   ]
  },
  {
   "cell_type": "code",
   "execution_count": null,
   "metadata": {},
   "outputs": [],
   "source": [
    "## Installing some libraries and packages.\n"
   ]
  },
  {
   "cell_type": "code",
   "execution_count": 1,
   "metadata": {},
   "outputs": [],
   "source": [
    "## Importing neccessary libraries"
   ]
  }
 ],
 "metadata": {
  "kernelspec": {
   "display_name": "venv",
   "language": "python",
   "name": "python3"
  },
  "language_info": {
   "codemirror_mode": {
    "name": "ipython",
    "version": 3
   },
   "file_extension": ".py",
   "mimetype": "text/x-python",
   "name": "python",
   "nbconvert_exporter": "python",
   "pygments_lexer": "ipython3",
   "version": "3.9.7"
  }
 },
 "nbformat": 4,
 "nbformat_minor": 2
}

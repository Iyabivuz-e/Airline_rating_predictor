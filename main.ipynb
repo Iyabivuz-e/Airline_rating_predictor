{
 "cells": [
  {
   "cell_type": "code",
   "execution_count": 192,
   "metadata": {},
   "outputs": [
    {
     "name": "stdout",
     "output_type": "stream",
     "text": [
      "Requirement already satisfied: pandas in .\\venv\\lib\\site-packages (2.2.3)\n",
      "Requirement already satisfied: numpy in .\\venv\\lib\\site-packages (2.0.2)\n",
      "Requirement already satisfied: matplotlib in .\\venv\\lib\\site-packages (3.9.4)\n",
      "Requirement already satisfied: seaborn in .\\venv\\lib\\site-packages (0.13.2)\n",
      "Requirement already satisfied: nltk in .\\venv\\lib\\site-packages (3.9.1)\n",
      "Requirement already satisfied: scikit-learn in .\\venv\\lib\\site-packages (1.6.1)\n",
      "Requirement already satisfied: tensorflow in .\\venv\\lib\\site-packages (2.19.0)\n",
      "Requirement already satisfied: python-dateutil>=2.8.2 in .\\venv\\lib\\site-packages (from pandas) (2.9.0.post0)\n",
      "Requirement already satisfied: pytz>=2020.1 in .\\venv\\lib\\site-packages (from pandas) (2025.2)\n",
      "Requirement already satisfied: tzdata>=2022.7 in .\\venv\\lib\\site-packages (from pandas) (2025.2)\n",
      "Requirement already satisfied: kiwisolver>=1.3.1 in .\\venv\\lib\\site-packages (from matplotlib) (1.4.7)\n",
      "Requirement already satisfied: pillow>=8 in .\\venv\\lib\\site-packages (from matplotlib) (11.2.1)\n",
      "Requirement already satisfied: pyparsing>=2.3.1 in .\\venv\\lib\\site-packages (from matplotlib) (3.2.3)\n",
      "Requirement already satisfied: contourpy>=1.0.1 in .\\venv\\lib\\site-packages (from matplotlib) (1.3.0)\n",
      "Requirement already satisfied: cycler>=0.10 in .\\venv\\lib\\site-packages (from matplotlib) (0.12.1)\n",
      "Requirement already satisfied: packaging>=20.0 in .\\venv\\lib\\site-packages (from matplotlib) (25.0)\n",
      "Requirement already satisfied: importlib-resources>=3.2.0 in .\\venv\\lib\\site-packages (from matplotlib) (6.5.2)\n",
      "Requirement already satisfied: fonttools>=4.22.0 in .\\venv\\lib\\site-packages (from matplotlib) (4.57.0)\n",
      "Requirement already satisfied: regex>=2021.8.3 in .\\venv\\lib\\site-packages (from nltk) (2024.11.6)\n",
      "Requirement already satisfied: tqdm in .\\venv\\lib\\site-packages (from nltk) (4.67.1)\n",
      "Requirement already satisfied: click in .\\venv\\lib\\site-packages (from nltk) (8.1.8)\n",
      "Requirement already satisfied: joblib in .\\venv\\lib\\site-packages (from nltk) (1.5.0)\n",
      "Requirement already satisfied: scipy>=1.6.0 in .\\venv\\lib\\site-packages (from scikit-learn) (1.13.1)\n",
      "Requirement already satisfied: threadpoolctl>=3.1.0 in .\\venv\\lib\\site-packages (from scikit-learn) (3.6.0)\n",
      "Requirement already satisfied: astunparse>=1.6.0 in .\\venv\\lib\\site-packages (from tensorflow) (1.6.3)\n",
      "Requirement already satisfied: six>=1.12.0 in .\\venv\\lib\\site-packages (from tensorflow) (1.17.0)\n",
      "Requirement already satisfied: libclang>=13.0.0 in .\\venv\\lib\\site-packages (from tensorflow) (18.1.1)\n",
      "Requirement already satisfied: keras>=3.5.0 in .\\venv\\lib\\site-packages (from tensorflow) (3.9.2)\n",
      "Requirement already satisfied: flatbuffers>=24.3.25 in .\\venv\\lib\\site-packages (from tensorflow) (25.2.10)\n",
      "Requirement already satisfied: opt-einsum>=2.3.2 in .\\venv\\lib\\site-packages (from tensorflow) (3.4.0)\n",
      "Requirement already satisfied: wrapt>=1.11.0 in .\\venv\\lib\\site-packages (from tensorflow) (1.17.2)\n",
      "Requirement already satisfied: absl-py>=1.0.0 in .\\venv\\lib\\site-packages (from tensorflow) (2.2.2)\n",
      "Requirement already satisfied: ml-dtypes<1.0.0,>=0.5.1 in .\\venv\\lib\\site-packages (from tensorflow) (0.5.1)\n",
      "Requirement already satisfied: tensorboard~=2.19.0 in .\\venv\\lib\\site-packages (from tensorflow) (2.19.0)\n",
      "Requirement already satisfied: grpcio<2.0,>=1.24.3 in .\\venv\\lib\\site-packages (from tensorflow) (1.71.0)\n",
      "Requirement already satisfied: termcolor>=1.1.0 in .\\venv\\lib\\site-packages (from tensorflow) (3.1.0)\n",
      "Requirement already satisfied: requests<3,>=2.21.0 in .\\venv\\lib\\site-packages (from tensorflow) (2.32.3)\n",
      "Requirement already satisfied: google-pasta>=0.1.1 in .\\venv\\lib\\site-packages (from tensorflow) (0.2.0)\n",
      "Requirement already satisfied: gast!=0.5.0,!=0.5.1,!=0.5.2,>=0.2.1 in .\\venv\\lib\\site-packages (from tensorflow) (0.6.0)\n",
      "Requirement already satisfied: typing-extensions>=3.6.6 in .\\venv\\lib\\site-packages (from tensorflow) (4.13.2)\n",
      "Requirement already satisfied: setuptools in .\\venv\\lib\\site-packages (from tensorflow) (57.4.0)\n",
      "Requirement already satisfied: tensorflow-io-gcs-filesystem>=0.23.1 in .\\venv\\lib\\site-packages (from tensorflow) (0.31.0)\n",
      "Requirement already satisfied: protobuf!=4.21.0,!=4.21.1,!=4.21.2,!=4.21.3,!=4.21.4,!=4.21.5,<6.0.0dev,>=3.20.3 in .\\venv\\lib\\site-packages (from tensorflow) (5.29.4)\n",
      "Requirement already satisfied: h5py>=3.11.0 in .\\venv\\lib\\site-packages (from tensorflow) (3.13.0)\n",
      "Requirement already satisfied: wheel<1.0,>=0.23.0 in .\\venv\\lib\\site-packages (from astunparse>=1.6.0->tensorflow) (0.45.1)\n",
      "Requirement already satisfied: zipp>=3.1.0 in .\\venv\\lib\\site-packages (from importlib-resources>=3.2.0->matplotlib) (3.21.0)\n",
      "Requirement already satisfied: rich in .\\venv\\lib\\site-packages (from keras>=3.5.0->tensorflow) (14.0.0)\n",
      "Requirement already satisfied: namex in .\\venv\\lib\\site-packages (from keras>=3.5.0->tensorflow) (0.0.9)\n",
      "Requirement already satisfied: optree in .\\venv\\lib\\site-packages (from keras>=3.5.0->tensorflow) (0.15.0)\n",
      "Requirement already satisfied: idna<4,>=2.5 in .\\venv\\lib\\site-packages (from requests<3,>=2.21.0->tensorflow) (3.10)\n",
      "Requirement already satisfied: certifi>=2017.4.17 in .\\venv\\lib\\site-packages (from requests<3,>=2.21.0->tensorflow) (2025.4.26)\n",
      "Requirement already satisfied: urllib3<3,>=1.21.1 in .\\venv\\lib\\site-packages (from requests<3,>=2.21.0->tensorflow) (2.4.0)\n",
      "Requirement already satisfied: charset-normalizer<4,>=2 in .\\venv\\lib\\site-packages (from requests<3,>=2.21.0->tensorflow) (3.4.2)\n",
      "Requirement already satisfied: tensorboard-data-server<0.8.0,>=0.7.0 in .\\venv\\lib\\site-packages (from tensorboard~=2.19.0->tensorflow) (0.7.2)\n",
      "Requirement already satisfied: markdown>=2.6.8 in .\\venv\\lib\\site-packages (from tensorboard~=2.19.0->tensorflow) (3.8)\n",
      "Requirement already satisfied: werkzeug>=1.0.1 in .\\venv\\lib\\site-packages (from tensorboard~=2.19.0->tensorflow) (3.1.3)\n",
      "Requirement already satisfied: importlib-metadata>=4.4 in .\\venv\\lib\\site-packages (from markdown>=2.6.8->tensorboard~=2.19.0->tensorflow) (8.7.0)\n",
      "Requirement already satisfied: MarkupSafe>=2.1.1 in .\\venv\\lib\\site-packages (from werkzeug>=1.0.1->tensorboard~=2.19.0->tensorflow) (3.0.2)\n",
      "Requirement already satisfied: colorama in .\\venv\\lib\\site-packages (from click->nltk) (0.4.6)\n",
      "Requirement already satisfied: markdown-it-py>=2.2.0 in .\\venv\\lib\\site-packages (from rich->keras>=3.5.0->tensorflow) (3.0.0)\n",
      "Requirement already satisfied: pygments<3.0.0,>=2.13.0 in .\\venv\\lib\\site-packages (from rich->keras>=3.5.0->tensorflow) (2.19.1)\n",
      "Requirement already satisfied: mdurl~=0.1 in .\\venv\\lib\\site-packages (from markdown-it-py>=2.2.0->rich->keras>=3.5.0->tensorflow) (0.1.2)\n",
      "Note: you may need to restart the kernel to use updated packages.\n"
     ]
    },
    {
     "name": "stderr",
     "output_type": "stream",
     "text": [
      "WARNING: You are using pip version 21.2.3; however, version 25.1.1 is available.\n",
      "You should consider upgrading via the 'd:\\assignment 3\\venv\\Scripts\\python.exe -m pip install --upgrade pip' command.\n"
     ]
    }
   ],
   "source": [
    "## Installing some libraries and packages.\n",
    "%pip install pandas numpy matplotlib seaborn nltk scikit-learn tensorflow"
   ]
  },
  {
   "cell_type": "code",
   "execution_count": 193,
   "metadata": {},
   "outputs": [],
   "source": [
    "import pandas as pd\n",
    "import numpy as np\n",
    "import matplotlib.pyplot as plt\n",
    "import re\n",
    "import nltk\n",
    "from nltk.corpus import stopwords\n",
    "from nltk.tokenize import word_tokenize\n",
    "from nltk.stem import PorterStemmer\n",
    "from sklearn.model_selection import train_test_split\n",
    "from sklearn.feature_extraction.text import TfidfVectorizer, CountVectorizer\n",
    "from sklearn.preprocessing import LabelEncoder\n",
    "from sklearn.metrics import classification_report, confusion_matrix, accuracy_score\n",
    "from sklearn.utils import class_weight\n",
    "import tensorflow as tf\n",
    "from tensorflow.keras.models import Sequential\n",
    "from tensorflow.keras.layers import Dense, Dropout\n",
    "from tensorflow.keras.callbacks import EarlyStopping\n",
    "from tensorflow.keras import regularizers\n",
    "from tensorflow.keras.optimizers import Adam\n",
    "import seaborn as sns\n",
    "from nltk.stem import WordNetLemmatizer\n",
    "from nltk.corpus import wordnet # For POS tagging if doing advanced lemmatization"
   ]
  },
  {
   "cell_type": "code",
   "execution_count": 194,
   "metadata": {},
   "outputs": [
    {
     "name": "stderr",
     "output_type": "stream",
     "text": [
      "[nltk_data] Downloading package punkt_tab to\n",
      "[nltk_data]     C:\\Users\\KIIT\\AppData\\Roaming\\nltk_data...\n",
      "[nltk_data]   Package punkt_tab is already up-to-date!\n",
      "[nltk_data] Downloading package stopwords to\n",
      "[nltk_data]     C:\\Users\\KIIT\\AppData\\Roaming\\nltk_data...\n",
      "[nltk_data]   Package stopwords is already up-to-date!\n",
      "[nltk_data] Downloading package wordnet to\n",
      "[nltk_data]     C:\\Users\\KIIT\\AppData\\Roaming\\nltk_data...\n",
      "[nltk_data]   Package wordnet is already up-to-date!\n",
      "[nltk_data] Downloading package averaged_perceptron_tagger to\n",
      "[nltk_data]     C:\\Users\\KIIT\\AppData\\Roaming\\nltk_data...\n",
      "[nltk_data]   Package averaged_perceptron_tagger is already up-to-\n",
      "[nltk_data]       date!\n"
     ]
    },
    {
     "data": {
      "text/plain": [
       "True"
      ]
     },
     "execution_count": 194,
     "metadata": {},
     "output_type": "execute_result"
    }
   ],
   "source": [
    "nltk.download(\"punkt_tab\")\n",
    "nltk.download(\"stopwords\")\n",
    "nltk.download('wordnet')\n",
    "nltk.download('averaged_perceptron_tagger')"
   ]
  },
  {
   "cell_type": "code",
   "execution_count": 195,
   "metadata": {},
   "outputs": [],
   "source": [
    "np.random.seed(42)\n",
    "tf.random.set_seed(41)"
   ]
  },
  {
   "cell_type": "markdown",
   "metadata": {},
   "source": [
    "## Loading the dataset"
   ]
  },
  {
   "cell_type": "code",
   "execution_count": 196,
   "metadata": {},
   "outputs": [
    {
     "data": {
      "text/html": [
       "<div>\n",
       "<style scoped>\n",
       "    .dataframe tbody tr th:only-of-type {\n",
       "        vertical-align: middle;\n",
       "    }\n",
       "\n",
       "    .dataframe tbody tr th {\n",
       "        vertical-align: top;\n",
       "    }\n",
       "\n",
       "    .dataframe thead th {\n",
       "        text-align: right;\n",
       "    }\n",
       "</style>\n",
       "<table border=\"1\" class=\"dataframe\">\n",
       "  <thead>\n",
       "    <tr style=\"text-align: right;\">\n",
       "      <th></th>\n",
       "      <th>Review</th>\n",
       "      <th>Overall_Rating</th>\n",
       "    </tr>\n",
       "  </thead>\n",
       "  <tbody>\n",
       "    <tr>\n",
       "      <th>0</th>\n",
       "      <td>Moroni to Moheli. Turned out to be a pretty ...</td>\n",
       "      <td>9.0</td>\n",
       "    </tr>\n",
       "    <tr>\n",
       "      <th>1</th>\n",
       "      <td>Moroni to Anjouan. It is a very small airline...</td>\n",
       "      <td>1.0</td>\n",
       "    </tr>\n",
       "    <tr>\n",
       "      <th>2</th>\n",
       "      <td>Anjouan to Dzaoudzi. A very small airline an...</td>\n",
       "      <td>1.0</td>\n",
       "    </tr>\n",
       "    <tr>\n",
       "      <th>3</th>\n",
       "      <td>Please do a favor yourself and do not fly wi...</td>\n",
       "      <td>1.0</td>\n",
       "    </tr>\n",
       "    <tr>\n",
       "      <th>4</th>\n",
       "      <td>Do not book a flight with this airline! My fr...</td>\n",
       "      <td>1.0</td>\n",
       "    </tr>\n",
       "  </tbody>\n",
       "</table>\n",
       "</div>"
      ],
      "text/plain": [
       "                                              Review  Overall_Rating\n",
       "0    Moroni to Moheli. Turned out to be a pretty ...             9.0\n",
       "1   Moroni to Anjouan. It is a very small airline...             1.0\n",
       "2    Anjouan to Dzaoudzi. A very small airline an...             1.0\n",
       "3    Please do a favor yourself and do not fly wi...             1.0\n",
       "4   Do not book a flight with this airline! My fr...             1.0"
      ]
     },
     "execution_count": 196,
     "metadata": {},
     "output_type": "execute_result"
    }
   ],
   "source": [
    "df = pd.read_csv(\"Airline_Reviews.csv\")\n",
    "# We have to drop the rest and keep the only relevant information for our project\n",
    "# df = df[[\"Review\", \"Overall_Rating\"]].dropna()\n",
    "# Convert 'Overall_Rating' to numeric, coercing errors\n",
    "df['Overall_Rating'] = pd.to_numeric(df['Overall_Rating'], errors='coerce')\n",
    "# Drop rows where 'Overall_Rating' is NaN after conversion\n",
    "df = df.dropna(subset=['Overall_Rating'])\n",
    "df = df[[\"Review\", \"Overall_Rating\"]].dropna()\n",
    "\n",
    "df.head()"
   ]
  },
  {
   "cell_type": "code",
   "execution_count": null,
   "metadata": {},
   "outputs": [],
   "source": []
  },
  {
   "cell_type": "code",
   "execution_count": 197,
   "metadata": {},
   "outputs": [
    {
     "data": {
      "text/plain": [
       "Review            0\n",
       "Overall_Rating    0\n",
       "dtype: int64"
      ]
     },
     "execution_count": 197,
     "metadata": {},
     "output_type": "execute_result"
    }
   ],
   "source": [
    "## Check if there is null values\n",
    "df.isnull().sum()"
   ]
  },
  {
   "cell_type": "code",
   "execution_count": 198,
   "metadata": {},
   "outputs": [],
   "source": [
    "# # Splitting data into dependent and independent variables \n",
    "# X = df[\"Review\"]\n",
    "# y = df[\"Overall_Rating\"]"
   ]
  },
  {
   "cell_type": "code",
   "execution_count": 199,
   "metadata": {},
   "outputs": [],
   "source": [
    "# # Splitting data into train and test dataset\n",
    "# X_train, X_test, y_train, y_test = train_test_split(X, y, test_size=0.20, random_state=42)"
   ]
  },
  {
   "cell_type": "markdown",
   "metadata": {},
   "source": [
    "## Data Preprocessing"
   ]
  },
  {
   "cell_type": "code",
   "execution_count": 200,
   "metadata": {},
   "outputs": [],
   "source": [
    "# A function that handles the data preprocessing\n",
    "def preprocess_text(text):\n",
    "    # Handle non-string inputs\n",
    "    if not isinstance(text, str):\n",
    "        return \"\"\n",
    "\n",
    "    # Convert to lowercase\n",
    "    text = text.lower()\n",
    "    # Remove HTML tags if there\n",
    "    text = re.sub(r'<.*?>', \"\", text)\n",
    "    # Remove special characters but keep spaces\n",
    "    text = re.sub(r'[^a-zA-Z\\s]', \" \", text)\n",
    "    # Tokenization\n",
    "    tokens = word_tokenize(text)\n",
    "    # Remove stopwords\n",
    "    stop_words = set(stopwords.words('english'))\n",
    "    tokens = [\n",
    "        word for word in tokens if word not in stop_words and len(word) > 1]\n",
    "\n",
    "    # Lemantization\n",
    "\n",
    "    \"\"\"Because lemmatization produces actual words, the processed text is more \n",
    "    human-readable and often leads to more accurate results in downstream natural language processing (NLP) tasks.\n",
    "    because we are dealing with sentiment analysis, understanding the actual meaning of words is crucial and hence lemmatization.\"\"\"\n",
    "    lemmatizer = WordNetLemmatizer()\n",
    "    tokens = [lemmatizer.lemmatize(word) for word in tokens]\n",
    "\n",
    "    # Join tokens back into a string\n",
    "    return ' '.join(tokens)"
   ]
  },
  {
   "cell_type": "code",
   "execution_count": 201,
   "metadata": {},
   "outputs": [],
   "source": [
    "# Apply the preprocessing function to the 'Review' column and create a new 'Processed_Review' column\n",
    "df['Processed_Review'] = df['Review'].apply(preprocess_text)\n",
    "\n",
    "# Splitting data into dependent and independent variables\n",
    "X = df[\"Processed_Review\"]  # Use the processed column\n",
    "y = df[\"Overall_Rating\"]"
   ]
  },
  {
   "cell_type": "markdown",
   "metadata": {},
   "source": [
    "### We then group the ratings for balancing the data"
   ]
  },
  {
   "cell_type": "code",
   "execution_count": 202,
   "metadata": {},
   "outputs": [],
   "source": [
    "def map_rating_to_sentiment(rating):\n",
    "    rating = int(rating)  # Ensure rating is an integer\n",
    "    if 1 <= rating <= 3:\n",
    "        return 0  # Negative\n",
    "    elif 4 <= rating <= 6:\n",
    "        return 1  # Neutral\n",
    "    elif 7 <= rating <= 10:\n",
    "        return 2  # Positive\n",
    "    return None  # Should not happen if data is clean\n",
    "\n",
    "\n",
    "df['Overall_Rating'] = df['Overall_Rating'].apply(map_rating_to_sentiment)\n",
    "# Drop any rows where mapping might have failed (if any rating was outside 1-10 initially)\n",
    "df = df.dropna(subset=['Overall_Rating'])\n",
    "df['Overall_Rating'] = df['Overall_Rating'].astype(int)"
   ]
  },
  {
   "cell_type": "code",
   "execution_count": null,
   "metadata": {},
   "outputs": [],
   "source": []
  },
  {
   "cell_type": "code",
   "execution_count": 203,
   "metadata": {},
   "outputs": [
    {
     "data": {
      "image/png": "[encoded data removed]",
      "text/plain": [
       "<Figure size 1000x600 with 1 Axes>"
      ]
     },
     "metadata": {},
     "output_type": "display_data"
    }
   ],
   "source": [
    "# Visualize rating distribution\n",
    "plt.figure(figsize=(10, 6))\n",
    "sns.countplot(x='Overall_Rating', data=df)\n",
    "plt.title('Distribution of Airline Ratings')\n",
    "plt.xlabel('Rating')\n",
    "plt.ylabel('Count')\n",
    "plt.show()"
   ]
  },
  {
   "cell_type": "code",
   "execution_count": 204,
   "metadata": {},
   "outputs": [],
   "source": [
    "X_train, X_test, y_train, y_test = train_test_split(\n",
    "    df['Processed_Review'],\n",
    "    df['Overall_Rating'],\n",
    "    test_size=0.2,\n",
    "    random_state=42,\n",
    "    stratify=df['Overall_Rating']\n",
    ")"
   ]
  },
  {
   "cell_type": "code",
   "execution_count": 205,
   "metadata": {},
   "outputs": [
    {
     "data": {
      "text/html": [
       "<div>\n",
       "<style scoped>\n",
       "    .dataframe tbody tr th:only-of-type {\n",
       "        vertical-align: middle;\n",
       "    }\n",
       "\n",
       "    .dataframe tbody tr th {\n",
       "        vertical-align: top;\n",
       "    }\n",
       "\n",
       "    .dataframe thead th {\n",
       "        text-align: right;\n",
       "    }\n",
       "</style>\n",
       "<table border=\"1\" class=\"dataframe\">\n",
       "  <thead>\n",
       "    <tr style=\"text-align: right;\">\n",
       "      <th></th>\n",
       "      <th>Review</th>\n",
       "      <th>Overall_Rating</th>\n",
       "      <th>Processed_Review</th>\n",
       "    </tr>\n",
       "  </thead>\n",
       "  <tbody>\n",
       "    <tr>\n",
       "      <th>0</th>\n",
       "      <td>Moroni to Moheli. Turned out to be a pretty ...</td>\n",
       "      <td>2</td>\n",
       "      <td>moroni moheli turned pretty decent airline onl...</td>\n",
       "    </tr>\n",
       "    <tr>\n",
       "      <th>1</th>\n",
       "      <td>Moroni to Anjouan. It is a very small airline...</td>\n",
       "      <td>0</td>\n",
       "      <td>moroni anjouan small airline ticket advised tu...</td>\n",
       "    </tr>\n",
       "    <tr>\n",
       "      <th>2</th>\n",
       "      <td>Anjouan to Dzaoudzi. A very small airline an...</td>\n",
       "      <td>0</td>\n",
       "      <td>anjouan dzaoudzi small airline airline based c...</td>\n",
       "    </tr>\n",
       "    <tr>\n",
       "      <th>3</th>\n",
       "      <td>Please do a favor yourself and do not fly wi...</td>\n",
       "      <td>0</td>\n",
       "      <td>please favor fly adria route munich pristina j...</td>\n",
       "    </tr>\n",
       "    <tr>\n",
       "      <th>4</th>\n",
       "      <td>Do not book a flight with this airline! My fr...</td>\n",
       "      <td>0</td>\n",
       "      <td>book flight airline friend returned sofia amst...</td>\n",
       "    </tr>\n",
       "    <tr>\n",
       "      <th>...</th>\n",
       "      <td>...</td>\n",
       "      <td>...</td>\n",
       "      <td>...</td>\n",
       "    </tr>\n",
       "    <tr>\n",
       "      <th>23166</th>\n",
       "      <td>Bangkok to Tokyo. I’ve flown many low cost ai...</td>\n",
       "      <td>0</td>\n",
       "      <td>bangkok tokyo flown many low cost airline stil...</td>\n",
       "    </tr>\n",
       "    <tr>\n",
       "      <th>23167</th>\n",
       "      <td>Avoid at all costs. I booked flights to go f...</td>\n",
       "      <td>0</td>\n",
       "      <td>avoid cost booked flight go singapore tokyo du...</td>\n",
       "    </tr>\n",
       "    <tr>\n",
       "      <th>23168</th>\n",
       "      <td>Flight was leaving at 23.15 and after an hou...</td>\n",
       "      <td>0</td>\n",
       "      <td>flight leaving hour half flying get back airpo...</td>\n",
       "    </tr>\n",
       "    <tr>\n",
       "      <th>23169</th>\n",
       "      <td>Zipair is JAL’s budget airline. They don’t ha...</td>\n",
       "      <td>1</td>\n",
       "      <td>zipair jal budget airline class travel pick se...</td>\n",
       "    </tr>\n",
       "    <tr>\n",
       "      <th>23170</th>\n",
       "      <td>They lied about connection in Narita and we ...</td>\n",
       "      <td>0</td>\n",
       "      <td>lied connection narita lost money refund agree...</td>\n",
       "    </tr>\n",
       "  </tbody>\n",
       "</table>\n",
       "<p>22329 rows × 3 columns</p>\n",
       "</div>"
      ],
      "text/plain": [
       "                                                  Review  Overall_Rating  \\\n",
       "0        Moroni to Moheli. Turned out to be a pretty ...               2   \n",
       "1       Moroni to Anjouan. It is a very small airline...               0   \n",
       "2        Anjouan to Dzaoudzi. A very small airline an...               0   \n",
       "3        Please do a favor yourself and do not fly wi...               0   \n",
       "4       Do not book a flight with this airline! My fr...               0   \n",
       "...                                                  ...             ...   \n",
       "23166   Bangkok to Tokyo. I’ve flown many low cost ai...               0   \n",
       "23167    Avoid at all costs. I booked flights to go f...               0   \n",
       "23168    Flight was leaving at 23.15 and after an hou...               0   \n",
       "23169   Zipair is JAL’s budget airline. They don’t ha...               1   \n",
       "23170    They lied about connection in Narita and we ...               0   \n",
       "\n",
       "                                        Processed_Review  \n",
       "0      moroni moheli turned pretty decent airline onl...  \n",
       "1      moroni anjouan small airline ticket advised tu...  \n",
       "2      anjouan dzaoudzi small airline airline based c...  \n",
       "3      please favor fly adria route munich pristina j...  \n",
       "4      book flight airline friend returned sofia amst...  \n",
       "...                                                  ...  \n",
       "23166  bangkok tokyo flown many low cost airline stil...  \n",
       "23167  avoid cost booked flight go singapore tokyo du...  \n",
       "23168  flight leaving hour half flying get back airpo...  \n",
       "23169  zipair jal budget airline class travel pick se...  \n",
       "23170  lied connection narita lost money refund agree...  \n",
       "\n",
       "[22329 rows x 3 columns]"
      ]
     },
     "execution_count": 205,
     "metadata": {},
     "output_type": "execute_result"
    }
   ],
   "source": [
    "df"
   ]
  },
  {
   "cell_type": "code",
   "execution_count": 206,
   "metadata": {},
   "outputs": [
    {
     "data": {
      "text/plain": [
       "1671     0\n",
       "4726     0\n",
       "14897    2\n",
       "2656     2\n",
       "1292     0\n",
       "Name: Overall_Rating, dtype: int64"
      ]
     },
     "execution_count": 206,
     "metadata": {},
     "output_type": "execute_result"
    }
   ],
   "source": [
    "y_train.head()"
   ]
  },
  {
   "cell_type": "markdown",
   "metadata": {},
   "source": [
    "## Embeddings"
   ]
  },
  {
   "cell_type": "code",
   "execution_count": 207,
   "metadata": {},
   "outputs": [],
   "source": [
    "tfidf_vectorizer = TfidfVectorizer(min_df=2, max_features=3000)\n",
    "X_train_tfidf = tfidf_vectorizer.fit_transform(X_train)\n",
    "X_test_tfidf = tfidf_vectorizer.transform(X_test)"
   ]
  },
  {
   "cell_type": "code",
   "execution_count": 208,
   "metadata": {},
   "outputs": [
    {
     "name": "stdout",
     "output_type": "stream",
     "text": [
      "[[0.         0.         0.         0.         0.         0.\n",
      "  0.         0.         0.         0.         0.         0.\n",
      "  0.         0.         0.         0.11226175 0.         0.16450538\n",
      "  0.         0.         0.         0.         0.         0.\n",
      "  0.         0.         0.         0.         0.         0.\n",
      "  0.         0.         0.         0.         0.         0.\n",
      "  0.         0.         0.         0.         0.         0.\n",
      "  0.         0.         0.         0.         0.         0.\n",
      "  0.         0.         0.         0.         0.         0.\n",
      "  0.         0.         0.         0.10434559 0.         0.\n",
      "  0.         0.         0.         0.         0.         0.\n",
      "  0.         0.         0.         0.         0.         0.\n",
      "  0.         0.         0.21625245 0.         0.         0.\n",
      "  0.         0.         0.         0.         0.02746329 0.\n",
      "  0.         0.         0.         0.         0.         0.\n",
      "  0.         0.         0.         0.         0.         0.\n",
      "  0.         0.         0.         0.        ]\n",
      " [0.         0.         0.         0.         0.         0.\n",
      "  0.         0.         0.         0.         0.         0.\n",
      "  0.         0.         0.         0.         0.         0.\n",
      "  0.         0.         0.         0.         0.         0.\n",
      "  0.         0.         0.         0.         0.         0.\n",
      "  0.         0.         0.         0.         0.         0.\n",
      "  0.         0.         0.         0.         0.         0.\n",
      "  0.         0.         0.         0.         0.         0.\n",
      "  0.         0.         0.         0.         0.         0.\n",
      "  0.         0.         0.         0.         0.         0.\n",
      "  0.         0.         0.         0.         0.         0.\n",
      "  0.         0.         0.         0.         0.         0.\n",
      "  0.         0.         0.         0.         0.         0.\n",
      "  0.         0.         0.         0.         0.         0.\n",
      "  0.         0.         0.         0.         0.         0.\n",
      "  0.         0.         0.         0.         0.         0.\n",
      "  0.         0.         0.         0.        ]\n",
      " [0.         0.         0.15975445 0.         0.         0.\n",
      "  0.         0.         0.         0.         0.         0.\n",
      "  0.         0.         0.         0.16445398 0.         0.\n",
      "  0.         0.         0.         0.         0.         0.\n",
      "  0.         0.         0.         0.         0.         0.\n",
      "  0.         0.         0.         0.         0.         0.\n",
      "  0.         0.         0.         0.         0.         0.\n",
      "  0.         0.         0.         0.         0.         0.\n",
      "  0.         0.         0.         0.         0.         0.\n",
      "  0.         0.         0.         0.         0.         0.\n",
      "  0.         0.         0.         0.         0.         0.\n",
      "  0.         0.         0.         0.         0.         0.\n",
      "  0.         0.         0.         0.         0.         0.\n",
      "  0.         0.         0.         0.         0.         0.\n",
      "  0.         0.         0.         0.         0.         0.\n",
      "  0.         0.         0.         0.         0.         0.\n",
      "  0.         0.         0.         0.        ]\n",
      " [0.         0.         0.         0.         0.         0.\n",
      "  0.         0.         0.         0.         0.         0.\n",
      "  0.         0.         0.         0.         0.         0.\n",
      "  0.         0.         0.         0.         0.         0.\n",
      "  0.         0.         0.         0.         0.         0.\n",
      "  0.         0.         0.         0.         0.         0.\n",
      "  0.         0.         0.         0.         0.         0.\n",
      "  0.         0.         0.         0.         0.         0.\n",
      "  0.         0.         0.         0.         0.         0.\n",
      "  0.         0.         0.         0.         0.         0.\n",
      "  0.         0.         0.         0.         0.         0.\n",
      "  0.         0.         0.         0.         0.         0.\n",
      "  0.         0.         0.07482648 0.         0.         0.\n",
      "  0.         0.         0.         0.         0.         0.\n",
      "  0.         0.         0.         0.         0.         0.\n",
      "  0.         0.         0.         0.         0.         0.\n",
      "  0.         0.         0.         0.        ]\n",
      " [0.         0.         0.         0.         0.         0.\n",
      "  0.         0.         0.         0.         0.         0.\n",
      "  0.         0.         0.         0.         0.         0.\n",
      "  0.         0.         0.         0.         0.         0.\n",
      "  0.         0.         0.         0.         0.         0.\n",
      "  0.         0.         0.         0.         0.         0.\n",
      "  0.         0.         0.         0.         0.         0.\n",
      "  0.         0.         0.         0.         0.         0.\n",
      "  0.         0.         0.         0.         0.         0.\n",
      "  0.         0.         0.         0.         0.         0.\n",
      "  0.         0.         0.         0.         0.         0.\n",
      "  0.         0.         0.         0.         0.         0.\n",
      "  0.         0.         0.         0.         0.         0.\n",
      "  0.         0.         0.         0.         0.08414681 0.\n",
      "  0.         0.         0.         0.         0.         0.\n",
      "  0.         0.         0.         0.         0.         0.\n",
      "  0.         0.         0.         0.        ]]\n"
     ]
    }
   ],
   "source": [
    "sample_tfidf = X_train_tfidf[:5, :100].toarray()\n",
    "print(sample_tfidf)"
   ]
  },
  {
   "cell_type": "code",
   "execution_count": 209,
   "metadata": {},
   "outputs": [],
   "source": [
    "# Prepare the labels (subtract 1 to make ratings 0-based for compatibility with softmax)\n",
    "label_encoder = LabelEncoder()\n",
    "y_train_encoded = label_encoder.fit_transform(y_train)\n",
    "y_test_encoded = label_encoder.transform(y_test)"
   ]
  },
  {
   "cell_type": "code",
   "execution_count": 210,
   "metadata": {},
   "outputs": [],
   "source": [
    "# Convert to one-hot encoded vectors\n",
    "num_classes = len(np.unique(y_train_encoded))\n",
    "y_train_categorical = tf.keras.utils.to_categorical(\n",
    "    y_train_encoded, num_classes)\n",
    "y_test_categorical = tf.keras.utils.to_categorical(y_test_encoded, num_classes)"
   ]
  },
  {
   "cell_type": "code",
   "execution_count": 211,
   "metadata": {},
   "outputs": [],
   "source": [
    "# Calculate class weights to handle imbalanced data\n",
    "class_weights = class_weight.compute_class_weight(\n",
    "    class_weight='balanced',\n",
    "    classes=np.unique(y_train_encoded),\n",
    "    y=y_train_encoded\n",
    ")\n",
    "class_weight_dict = dict(enumerate(class_weights))"
   ]
  },
  {
   "cell_type": "markdown",
   "metadata": {},
   "source": [
    "## Build the model"
   ]
  },
  {
   "cell_type": "code",
   "execution_count": 212,
   "metadata": {},
   "outputs": [],
   "source": [
    "def build_the_model(input_dim, output_dim):\n",
    "  model = Sequential([\n",
    "      Dense(64, activation='relu', input_dim=input_dim,\n",
    "            kernel_regularizer=regularizers.l2(0.01)),\n",
    "      Dropout(0.5),\n",
    "      Dense(64, activation='relu',\n",
    "            kernel_regularizer=regularizers.l2(0.01)),\n",
    "      Dropout(0.5),\n",
    "      Dense(output_dim, activation='softmax')\n",
    "  ])\n",
    "\n",
    "  model.compile(\n",
    "      optimizer=Adam(learning_rate=0.0001),\n",
    "      loss=\"categorical_crossentropy\",\n",
    "      metrics=[\"accuracy\"]\n",
    "  )\n",
    "\n",
    "  return model"
   ]
  },
  {
   "cell_type": "code",
   "execution_count": 213,
   "metadata": {},
   "outputs": [
    {
     "name": "stderr",
     "output_type": "stream",
     "text": [
      "d:\\assignment 3\\venv\\lib\\site-packages\\keras\\src\\layers\\core\\dense.py:87: UserWarning: Do not pass an `input_shape`/`input_dim` argument to a layer. When using Sequential models, prefer using an `Input(shape)` object as the first layer in the model instead.\n",
      "  super().__init__(activity_regularizer=activity_regularizer, **kwargs)\n"
     ]
    },
    {
     "name": "stdout",
     "output_type": "stream",
     "text": [
      "Epoch 1/100\n",
      "\u001b[1m224/224\u001b[0m \u001b[32m━━━━━━━━━━━━━━━━━━━━\u001b[0m\u001b[37m\u001b[0m \u001b[1m4s\u001b[0m 9ms/step - accuracy: 0.4234 - loss: 2.6268 - val_accuracy: 0.6930 - val_loss: 1.8805\n",
      "Epoch 2/100\n",
      "\u001b[1m224/224\u001b[0m \u001b[32m━━━━━━━━━━━━━━━━━━━━\u001b[0m\u001b[37m\u001b[0m \u001b[1m2s\u001b[0m 7ms/step - accuracy: 0.6217 - loss: 1.7620 - val_accuracy: 0.7445 - val_loss: 1.4712\n",
      "Epoch 3/100\n",
      "\u001b[1m224/224\u001b[0m \u001b[32m━━━━━━━━━━━━━━━━━━━━\u001b[0m\u001b[37m\u001b[0m \u001b[1m1s\u001b[0m 6ms/step - accuracy: 0.7047 - loss: 1.4441 - val_accuracy: 0.7554 - val_loss: 1.2726\n",
      "Epoch 4/100\n",
      "\u001b[1m224/224\u001b[0m \u001b[32m━━━━━━━━━━━━━━━━━━━━\u001b[0m\u001b[37m\u001b[0m \u001b[1m1s\u001b[0m 6ms/step - accuracy: 0.7260 - loss: 1.2884 - val_accuracy: 0.7509 - val_loss: 1.1346\n",
      "Epoch 5/100\n",
      "\u001b[1m224/224\u001b[0m \u001b[32m━━━━━━━━━━━━━━━━━━━━\u001b[0m\u001b[37m\u001b[0m \u001b[1m2s\u001b[0m 7ms/step - accuracy: 0.7317 - loss: 1.1843 - val_accuracy: 0.7517 - val_loss: 1.0381\n",
      "Epoch 6/100\n",
      "\u001b[1m224/224\u001b[0m \u001b[32m━━━━━━━━━━━━━━━━━━━━\u001b[0m\u001b[37m\u001b[0m \u001b[1m2s\u001b[0m 7ms/step - accuracy: 0.7388 - loss: 1.1102 - val_accuracy: 0.7481 - val_loss: 0.9758\n",
      "Epoch 7/100\n",
      "\u001b[1m224/224\u001b[0m \u001b[32m━━━━━━━━━━━━━━━━━━━━\u001b[0m\u001b[37m\u001b[0m \u001b[1m2s\u001b[0m 7ms/step - accuracy: 0.7369 - loss: 1.0616 - val_accuracy: 0.7470 - val_loss: 0.9316\n",
      "Epoch 8/100\n",
      "\u001b[1m224/224\u001b[0m \u001b[32m━━━━━━━━━━━━━━━━━━━━\u001b[0m\u001b[37m\u001b[0m \u001b[1m2s\u001b[0m 7ms/step - accuracy: 0.7393 - loss: 1.0243 - val_accuracy: 0.7448 - val_loss: 0.9055\n",
      "Epoch 9/100\n",
      "\u001b[1m224/224\u001b[0m \u001b[32m━━━━━━━━━━━━━━━━━━━━\u001b[0m\u001b[37m\u001b[0m \u001b[1m2s\u001b[0m 7ms/step - accuracy: 0.7388 - loss: 0.9988 - val_accuracy: 0.7448 - val_loss: 0.8801\n",
      "Epoch 10/100\n",
      "\u001b[1m224/224\u001b[0m \u001b[32m━━━━━━━━━━━━━━━━━━━━\u001b[0m\u001b[37m\u001b[0m \u001b[1m2s\u001b[0m 6ms/step - accuracy: 0.7365 - loss: 0.9798 - val_accuracy: 0.7431 - val_loss: 0.8703\n",
      "Epoch 11/100\n",
      "\u001b[1m224/224\u001b[0m \u001b[32m━━━━━━━━━━━━━━━━━━━━\u001b[0m\u001b[37m\u001b[0m \u001b[1m1s\u001b[0m 6ms/step - accuracy: 0.7389 - loss: 0.9679 - val_accuracy: 0.7400 - val_loss: 0.8608\n",
      "Epoch 12/100\n",
      "\u001b[1m224/224\u001b[0m \u001b[32m━━━━━━━━━━━━━━━━━━━━\u001b[0m\u001b[37m\u001b[0m \u001b[1m1s\u001b[0m 6ms/step - accuracy: 0.7414 - loss: 0.9573 - val_accuracy: 0.7397 - val_loss: 0.8541\n",
      "Epoch 13/100\n",
      "\u001b[1m224/224\u001b[0m \u001b[32m━━━━━━━━━━━━━━━━━━━━\u001b[0m\u001b[37m\u001b[0m \u001b[1m1s\u001b[0m 6ms/step - accuracy: 0.7433 - loss: 0.9457 - val_accuracy: 0.7392 - val_loss: 0.8459\n",
      "Epoch 14/100\n",
      "\u001b[1m224/224\u001b[0m \u001b[32m━━━━━━━━━━━━━━━━━━━━\u001b[0m\u001b[37m\u001b[0m \u001b[1m1s\u001b[0m 6ms/step - accuracy: 0.7380 - loss: 0.9422 - val_accuracy: 0.7361 - val_loss: 0.8470\n",
      "Epoch 15/100\n",
      "\u001b[1m224/224\u001b[0m \u001b[32m━━━━━━━━━━━━━━━━━━━━\u001b[0m\u001b[37m\u001b[0m \u001b[1m2s\u001b[0m 6ms/step - accuracy: 0.7380 - loss: 0.9354 - val_accuracy: 0.7352 - val_loss: 0.8375\n",
      "Epoch 16/100\n",
      "\u001b[1m224/224\u001b[0m \u001b[32m━━━━━━━━━━━━━━━━━━━━\u001b[0m\u001b[37m\u001b[0m \u001b[1m1s\u001b[0m 6ms/step - accuracy: 0.7382 - loss: 0.9308 - val_accuracy: 0.7316 - val_loss: 0.8385\n",
      "Epoch 17/100\n",
      "\u001b[1m224/224\u001b[0m \u001b[32m━━━━━━━━━━━━━━━━━━━━\u001b[0m\u001b[37m\u001b[0m \u001b[1m1s\u001b[0m 6ms/step - accuracy: 0.7443 - loss: 0.9260 - val_accuracy: 0.7305 - val_loss: 0.8383\n",
      "Epoch 18/100\n",
      "\u001b[1m224/224\u001b[0m \u001b[32m━━━━━━━━━━━━━━━━━━━━\u001b[0m\u001b[37m\u001b[0m \u001b[1m1s\u001b[0m 6ms/step - accuracy: 0.7347 - loss: 0.9233 - val_accuracy: 0.7310 - val_loss: 0.8364\n",
      "Epoch 19/100\n",
      "\u001b[1m224/224\u001b[0m \u001b[32m━━━━━━━━━━━━━━━━━━━━\u001b[0m\u001b[37m\u001b[0m \u001b[1m1s\u001b[0m 6ms/step - accuracy: 0.7324 - loss: 0.9254 - val_accuracy: 0.7327 - val_loss: 0.8304\n",
      "Epoch 20/100\n",
      "\u001b[1m224/224\u001b[0m \u001b[32m━━━━━━━━━━━━━━━━━━━━\u001b[0m\u001b[37m\u001b[0m \u001b[1m1s\u001b[0m 6ms/step - accuracy: 0.7391 - loss: 0.9139 - val_accuracy: 0.7288 - val_loss: 0.8326\n",
      "Epoch 21/100\n",
      "\u001b[1m224/224\u001b[0m \u001b[32m━━━━━━━━━━━━━━━━━━━━\u001b[0m\u001b[37m\u001b[0m \u001b[1m2s\u001b[0m 6ms/step - accuracy: 0.7385 - loss: 0.9111 - val_accuracy: 0.7277 - val_loss: 0.8285\n",
      "Epoch 22/100\n",
      "\u001b[1m224/224\u001b[0m \u001b[32m━━━━━━━━━━━━━━━━━━━━\u001b[0m\u001b[37m\u001b[0m \u001b[1m1s\u001b[0m 6ms/step - accuracy: 0.7402 - loss: 0.9112 - val_accuracy: 0.7266 - val_loss: 0.8285\n",
      "Epoch 23/100\n",
      "\u001b[1m224/224\u001b[0m \u001b[32m━━━━━━━━━━━━━━━━━━━━\u001b[0m\u001b[37m\u001b[0m \u001b[1m1s\u001b[0m 6ms/step - accuracy: 0.7339 - loss: 0.9102 - val_accuracy: 0.7266 - val_loss: 0.8310\n",
      "Epoch 24/100\n",
      "\u001b[1m224/224\u001b[0m \u001b[32m━━━━━━━━━━━━━━━━━━━━\u001b[0m\u001b[37m\u001b[0m \u001b[1m2s\u001b[0m 8ms/step - accuracy: 0.7381 - loss: 0.9078 - val_accuracy: 0.7266 - val_loss: 0.8257\n",
      "Epoch 25/100\n",
      "\u001b[1m224/224\u001b[0m \u001b[32m━━━━━━━━━━━━━━━━━━━━\u001b[0m\u001b[37m\u001b[0m \u001b[1m2s\u001b[0m 7ms/step - accuracy: 0.7429 - loss: 0.9064 - val_accuracy: 0.7268 - val_loss: 0.8233\n",
      "Epoch 26/100\n",
      "\u001b[1m224/224\u001b[0m \u001b[32m━━━━━━━━━━━━━━━━━━━━\u001b[0m\u001b[37m\u001b[0m \u001b[1m2s\u001b[0m 7ms/step - accuracy: 0.7426 - loss: 0.9002 - val_accuracy: 0.7254 - val_loss: 0.8254\n",
      "Epoch 27/100\n",
      "\u001b[1m224/224\u001b[0m \u001b[32m━━━━━━━━━━━━━━━━━━━━\u001b[0m\u001b[37m\u001b[0m \u001b[1m1s\u001b[0m 6ms/step - accuracy: 0.7333 - loss: 0.9028 - val_accuracy: 0.7226 - val_loss: 0.8285\n",
      "Epoch 28/100\n",
      "\u001b[1m224/224\u001b[0m \u001b[32m━━━━━━━━━━━━━━━━━━━━\u001b[0m\u001b[37m\u001b[0m \u001b[1m1s\u001b[0m 6ms/step - accuracy: 0.7399 - loss: 0.8980 - val_accuracy: 0.7257 - val_loss: 0.8251\n",
      "Epoch 29/100\n",
      "\u001b[1m224/224\u001b[0m \u001b[32m━━━━━━━━━━━━━━━━━━━━\u001b[0m\u001b[37m\u001b[0m \u001b[1m1s\u001b[0m 6ms/step - accuracy: 0.7395 - loss: 0.8945 - val_accuracy: 0.7252 - val_loss: 0.8209\n",
      "Epoch 30/100\n",
      "\u001b[1m224/224\u001b[0m \u001b[32m━━━━━━━━━━━━━━━━━━━━\u001b[0m\u001b[37m\u001b[0m \u001b[1m2s\u001b[0m 6ms/step - accuracy: 0.7408 - loss: 0.8970 - val_accuracy: 0.7246 - val_loss: 0.8224\n",
      "Epoch 31/100\n",
      "\u001b[1m224/224\u001b[0m \u001b[32m━━━━━━━━━━━━━━━━━━━━\u001b[0m\u001b[37m\u001b[0m \u001b[1m1s\u001b[0m 6ms/step - accuracy: 0.7364 - loss: 0.8967 - val_accuracy: 0.7257 - val_loss: 0.8210\n",
      "Epoch 32/100\n",
      "\u001b[1m224/224\u001b[0m \u001b[32m━━━━━━━━━━━━━━━━━━━━\u001b[0m\u001b[37m\u001b[0m \u001b[1m1s\u001b[0m 6ms/step - accuracy: 0.7383 - loss: 0.8918 - val_accuracy: 0.7238 - val_loss: 0.8237\n",
      "Epoch 33/100\n",
      "\u001b[1m224/224\u001b[0m \u001b[32m━━━━━━━━━━━━━━━━━━━━\u001b[0m\u001b[37m\u001b[0m \u001b[1m1s\u001b[0m 6ms/step - accuracy: 0.7365 - loss: 0.8939 - val_accuracy: 0.7215 - val_loss: 0.8257\n",
      "Epoch 34/100\n",
      "\u001b[1m224/224\u001b[0m \u001b[32m━━━━━━━━━━━━━━━━━━━━\u001b[0m\u001b[37m\u001b[0m \u001b[1m1s\u001b[0m 6ms/step - accuracy: 0.7416 - loss: 0.8861 - val_accuracy: 0.7254 - val_loss: 0.8188\n",
      "Epoch 35/100\n",
      "\u001b[1m224/224\u001b[0m \u001b[32m━━━━━━━━━━━━━━━━━━━━\u001b[0m\u001b[37m\u001b[0m \u001b[1m1s\u001b[0m 6ms/step - accuracy: 0.7371 - loss: 0.8901 - val_accuracy: 0.7226 - val_loss: 0.8223\n",
      "Epoch 36/100\n",
      "\u001b[1m224/224\u001b[0m \u001b[32m━━━━━━━━━━━━━━━━━━━━\u001b[0m\u001b[37m\u001b[0m \u001b[1m1s\u001b[0m 6ms/step - accuracy: 0.7363 - loss: 0.8842 - val_accuracy: 0.7226 - val_loss: 0.8204\n",
      "Epoch 37/100\n",
      "\u001b[1m224/224\u001b[0m \u001b[32m━━━━━━━━━━━━━━━━━━━━\u001b[0m\u001b[37m\u001b[0m \u001b[1m1s\u001b[0m 6ms/step - accuracy: 0.7447 - loss: 0.8860 - val_accuracy: 0.7226 - val_loss: 0.8197\n",
      "Epoch 38/100\n",
      "\u001b[1m224/224\u001b[0m \u001b[32m━━━━━━━━━━━━━━━━━━━━\u001b[0m\u001b[37m\u001b[0m \u001b[1m1s\u001b[0m 6ms/step - accuracy: 0.7393 - loss: 0.8824 - val_accuracy: 0.7229 - val_loss: 0.8202\n",
      "Epoch 39/100\n",
      "\u001b[1m224/224\u001b[0m \u001b[32m━━━━━━━━━━━━━━━━━━━━\u001b[0m\u001b[37m\u001b[0m \u001b[1m2s\u001b[0m 6ms/step - accuracy: 0.7367 - loss: 0.8836 - val_accuracy: 0.7235 - val_loss: 0.8161\n",
      "Epoch 40/100\n",
      "\u001b[1m224/224\u001b[0m \u001b[32m━━━━━━━━━━━━━━━━━━━━\u001b[0m\u001b[37m\u001b[0m \u001b[1m2s\u001b[0m 7ms/step - accuracy: 0.7381 - loss: 0.8820 - val_accuracy: 0.7224 - val_loss: 0.8187\n",
      "Epoch 41/100\n",
      "\u001b[1m224/224\u001b[0m \u001b[32m━━━━━━━━━━━━━━━━━━━━\u001b[0m\u001b[37m\u001b[0m \u001b[1m1s\u001b[0m 6ms/step - accuracy: 0.7385 - loss: 0.8797 - val_accuracy: 0.7218 - val_loss: 0.8171\n",
      "Epoch 42/100\n",
      "\u001b[1m224/224\u001b[0m \u001b[32m━━━━━━━━━━━━━━━━━━━━\u001b[0m\u001b[37m\u001b[0m \u001b[1m1s\u001b[0m 6ms/step - accuracy: 0.7410 - loss: 0.8759 - val_accuracy: 0.7207 - val_loss: 0.8194\n",
      "Epoch 43/100\n",
      "\u001b[1m224/224\u001b[0m \u001b[32m━━━━━━━━━━━━━━━━━━━━\u001b[0m\u001b[37m\u001b[0m \u001b[1m1s\u001b[0m 6ms/step - accuracy: 0.7430 - loss: 0.8758 - val_accuracy: 0.7235 - val_loss: 0.8169\n",
      "Epoch 44/100\n",
      "\u001b[1m224/224\u001b[0m \u001b[32m━━━━━━━━━━━━━━━━━━━━\u001b[0m\u001b[37m\u001b[0m \u001b[1m1s\u001b[0m 6ms/step - accuracy: 0.7416 - loss: 0.8721 - val_accuracy: 0.7204 - val_loss: 0.8206\n"
     ]
    }
   ],
   "source": [
    "# Create and train the model\n",
    "model = build_the_model(X_train_tfidf.shape[1], num_classes)\n",
    "# model.summary\n",
    "\n",
    "# Define early stopping callback\n",
    "early_stopping = EarlyStopping(\n",
    "    monitor='val_loss',\n",
    "    patience=5,\n",
    "    restore_best_weights=True,\n",
    "    mode='min',\n",
    ")\n",
    "\n",
    "train_the_model = model.fit(\n",
    "    X_train_tfidf,\n",
    "    y_train_categorical,\n",
    "    epochs=100,\n",
    "    batch_size=64,\n",
    "    validation_split=0.2,\n",
    "    callbacks=[early_stopping],\n",
    "    class_weight=class_weight_dict,\n",
    "    verbose=1\n",
    ")"
   ]
  },
  {
   "cell_type": "code",
   "execution_count": 214,
   "metadata": {},
   "outputs": [
    {
     "data": {
      "image/png": "[encoded data removed]",
      "text/plain": [
       "<Figure size 1200x500 with 2 Axes>"
      ]
     },
     "metadata": {},
     "output_type": "display_data"
    }
   ],
   "source": [
    "# Plot the training history\n",
    "plt.figure(figsize=(12, 5))\n",
    "plt.subplot(1, 2, 1)\n",
    "plt.plot(train_the_model.history['accuracy'])\n",
    "plt.plot(train_the_model.history['val_accuracy'])\n",
    "plt.title('Model Accuracy')\n",
    "plt.ylabel('Accuracy')\n",
    "plt.xlabel('Epoch')\n",
    "plt.legend(['Train', 'Validation'], loc='upper left')\n",
    "\n",
    "plt.subplot(1, 2, 2)\n",
    "plt.plot(train_the_model.history['loss'])\n",
    "plt.plot(train_the_model.history['val_loss'])\n",
    "plt.title('Model Loss')\n",
    "plt.ylabel('Loss')\n",
    "plt.xlabel('Epoch')\n",
    "plt.legend(['Train', 'Validation'], loc='upper right')\n",
    "plt.tight_layout()\n",
    "plt.show()\n",
    "plt.close()"
   ]
  },
  {
   "cell_type": "code",
   "execution_count": 215,
   "metadata": {},
   "outputs": [
    {
     "name": "stdout",
     "output_type": "stream",
     "text": [
      "\u001b[1m140/140\u001b[0m \u001b[32m━━━━━━━━━━━━━━━━━━━━\u001b[0m\u001b[37m\u001b[0m \u001b[1m1s\u001b[0m 4ms/step\n",
      "\n",
      "Model Evaluation:\n",
      "Accuracy: 0.7351\n",
      "\n",
      "Classification Report:\n",
      "              precision    recall  f1-score   support\n",
      "\n",
      "           0       0.93      0.78      0.85      3050\n",
      "           1       0.25      0.37      0.30       473\n",
      "           2       0.60      0.77      0.67       943\n",
      "\n",
      "    accuracy                           0.74      4466\n",
      "   macro avg       0.59      0.64      0.61      4466\n",
      "weighted avg       0.79      0.74      0.75      4466\n",
      "\n"
     ]
    }
   ],
   "source": [
    "y_pred_probs = model.predict(X_test_tfidf)\n",
    "y_predict = np.argmax(y_pred_probs, axis=1)\n",
    "\n",
    "# Print evaluation metrics\n",
    "print(\"\\nModel Evaluation:\")\n",
    "print(f\"Accuracy: {accuracy_score(y_test_encoded, y_predict):.4f}\")\n",
    "print(\"\\nClassification Report:\")\n",
    "print(classification_report(y_test_encoded, y_predict))"
   ]
  },
  {
   "cell_type": "code",
   "execution_count": 216,
   "metadata": {},
   "outputs": [
    {
     "data": {
      "image/png": "[encoded data removed]",
      "text/plain": [
       "<Figure size 1000x800 with 2 Axes>"
      ]
     },
     "metadata": {},
     "output_type": "display_data"
    }
   ],
   "source": [
    "# confusion matrix plot\n",
    "cm = confusion_matrix(y_test_encoded, y_predict)\n",
    "plt.figure(figsize=(10, 8))\n",
    "sns.heatmap(cm, annot=True, fmt='d', cmap='Blues')\n",
    "plt.title('Confusion Matrix')\n",
    "plt.ylabel('True Label')\n",
    "plt.xlabel('Predicted Label')\n",
    "plt.show()\n",
    "plt.close()"
   ]
  },
  {
   "cell_type": "markdown",
   "metadata": {},
   "source": [
    "## Model Prediction"
   ]
  },
  {
   "cell_type": "code",
   "execution_count": 217,
   "metadata": {},
   "outputs": [],
   "source": [
    "# Function to predict rating for a new review\n",
    "def predict_rating(review_text):\n",
    "    # Preprocess the review\n",
    "    processed_review = preprocess_text(review_text)\n",
    "    # Transform to TF-IDF features\n",
    "    review_tfidf = tfidf_vectorizer.transform([processed_review]).toarray()\n",
    "    # Make prediction\n",
    "    pred_probs = model.predict(review_tfidf)[0]\n",
    "    pred_class = np.argmax(pred_probs)\n",
    "    # Map back to original rating (add 1 since we subtracted 1 earlier)\n",
    "    predicted_rating = label_encoder.inverse_transform([pred_class])[0]\n",
    "\n",
    "    return predicted_rating, pred_probs"
   ]
  },
  {
   "cell_type": "code",
   "execution_count": 218,
   "metadata": {},
   "outputs": [
    {
     "name": "stdout",
     "output_type": "stream",
     "text": [
      "\u001b[1m1/1\u001b[0m \u001b[32m━━━━━━━━━━━━━━━━━━━━\u001b[0m\u001b[37m\u001b[0m \u001b[1m0s\u001b[0m 123ms/step\n",
      "Review: \n",
      " Flying with SkyJet Airways in business class from London to Tokyo was a dream. The seats were fully lie-flat, the food was gourmet quality, and the flight attendants were incredibly attentive. I especially appreciated the amenity kit and fast Wi-Fi. Worth every penny!\n",
      "Rating: \n",
      " 2\n",
      "Confidence: \n",
      " [0.14996678 0.40356916 0.44646406]\n",
      "\u001b[1m1/1\u001b[0m \u001b[32m━━━━━━━━━━━━━━━━━━━━\u001b[0m\u001b[37m\u001b[0m \u001b[1m0s\u001b[0m 44ms/step\n",
      "Review: \n",
      " Absolutely the worst experience with AeroLink. My flight from Chicago to Dallas was delayed for 6 hours with zero communication. Once onboard, the seats were cramped, dirty, and the staff were rude. No compensation or apology. Never again.\n",
      "Rating: \n",
      " 0\n",
      "Confidence: \n",
      " [0.88980186 0.10294536 0.00725278]\n",
      "\u001b[1m1/1\u001b[0m \u001b[32m━━━━━━━━━━━━━━━━━━━━\u001b[0m\u001b[37m\u001b[0m \u001b[1m0s\u001b[0m 50ms/step\n",
      "Review: \n",
      " I flew with JetSaver from Berlin to Madrid. It was fine for a budget airline—nothing special. The check-in process was slow, but we departed on time. No in-flight entertainment, and food was overpriced, but the staff were polite. You get what you pay for.\n",
      "Rating: \n",
      " 1\n",
      "Confidence: \n",
      " [0.2996476 0.4278716 0.2724807]\n",
      "\u001b[1m1/1\u001b[0m \u001b[32m━━━━━━━━━━━━━━━━━━━━\u001b[0m\u001b[37m\u001b[0m \u001b[1m0s\u001b[0m 45ms/step\n",
      "Review: \n",
      " We flew GlobalWings from New York to Paris with our two kids, and it was surprisingly smooth. The staff were very helpful with the children, the in-flight entertainment had great kid-friendly options, and we landed early. Will definitely fly with them again!\n",
      "Rating: \n",
      " 2\n",
      "Confidence: \n",
      " [0.05263188 0.2969291  0.650439  ]\n",
      "\u001b[1m1/1\u001b[0m \u001b[32m━━━━━━━━━━━━━━━━━━━━\u001b[0m\u001b[37m\u001b[0m \u001b[1m0s\u001b[0m 46ms/step\n",
      "Review: \n",
      " Missed my connecting flight with AirNova because of a delayed inbound flight, and the ground staff offered no assistance. They made me rebook at my own cost. Poor customer service and lack of accountability. Extremely disappointed.\n",
      "Rating: \n",
      " 0\n",
      "Confidence: \n",
      " [0.74898094 0.21655737 0.03446172]\n"
     ]
    }
   ],
   "source": [
    "example_text = [\n",
    "    \"Flying with SkyJet Airways in business class from London to Tokyo was a dream. The seats were fully lie-flat, the food was gourmet quality, and the flight attendants were incredibly attentive. I especially appreciated the amenity kit and fast Wi-Fi. Worth every penny!\",\n",
    "    \"Absolutely the worst experience with AeroLink. My flight from Chicago to Dallas was delayed for 6 hours with zero communication. Once onboard, the seats were cramped, dirty, and the staff were rude. No compensation or apology. Never again.\",\n",
    "    \"I flew with JetSaver from Berlin to Madrid. It was fine for a budget airline—nothing special. The check-in process was slow, but we departed on time. No in-flight entertainment, and food was overpriced, but the staff were polite. You get what you pay for.\",\n",
    "    \"We flew GlobalWings from New York to Paris with our two kids, and it was surprisingly smooth. The staff were very helpful with the children, the in-flight entertainment had great kid-friendly options, and we landed early. Will definitely fly with them again!\",\n",
    "    \"Missed my connecting flight with AirNova because of a delayed inbound flight, and the ground staff offered no assistance. They made me rebook at my own cost. Poor customer service and lack of accountability. Extremely disappointed.\"\n",
    "]\n",
    "\n",
    "for review in example_text:\n",
    "  rating, probs = predict_rating(review)\n",
    "  print(f\"Review: \\n {review}\")\n",
    "  print(f\"Rating: \\n {rating}\")\n",
    "  print(f\"Confidence: \\n {probs}\")"
   ]
  },
  {
   "cell_type": "code",
   "execution_count": null,
   "metadata": {},
   "outputs": [],
   "source": []
  },
  {
   "cell_type": "code",
   "execution_count": null,
   "metadata": {},
   "outputs": [],
   "source": []
  },
  {
   "cell_type": "code",
   "execution_count": null,
   "metadata": {},
   "outputs": [],
   "source": []
  },
  {
   "cell_type": "code",
   "execution_count": null,
   "metadata": {},
   "outputs": [],
   "source": []
  },
  {
   "cell_type": "code",
   "execution_count": null,
   "metadata": {},
   "outputs": [],
   "source": []
  }
 ],
 "metadata": {
  "kernelspec": {
   "display_name": "venv",
   "language": "python",
   "name": "python3"
  },
  "language_info": {
   "codemirror_mode": {
    "name": "ipython",
    "version": 3
   },
   "file_extension": ".py",
   "mimetype": "text/x-python",
   "name": "python",
   "nbconvert_exporter": "python",
   "pygments_lexer": "ipython3",
   "version": "3.9.7"
  }
 },
 "nbformat": 4,
 "nbformat_minor": 2
}

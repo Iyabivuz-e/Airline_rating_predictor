{
 "cells": [
  {
   "cell_type": "code",
   "execution_count": 1,
   "metadata": {},
   "outputs": [
    {
     "name": "stdout",
     "output_type": "stream",
     "text": [
      "Requirement already satisfied: pandas in .\\venv\\lib\\site-packages (2.2.3)\n",
      "Requirement already satisfied: numpy in .\\venv\\lib\\site-packages (2.0.2)\n",
      "Requirement already satisfied: matplotlib in .\\venv\\lib\\site-packages (3.9.4)\n",
      "Requirement already satisfied: seaborn in .\\venv\\lib\\site-packages (0.13.2)\n",
      "Requirement already satisfied: nltk in .\\venv\\lib\\site-packages (3.9.1)\n",
      "Requirement already satisfied: scikit-learn in .\\venv\\lib\\site-packages (1.6.1)\n",
      "Collecting tensorflow\n",
      "  Using cached tensorflow-2.19.0-cp39-cp39-win_amd64.whl (375.7 MB)\n",
      "Requirement already satisfied: python-dateutil>=2.8.2 in .\\venv\\lib\\site-packages (from pandas) (2.9.0.post0)\n",
      "Requirement already satisfied: tzdata>=2022.7 in .\\venv\\lib\\site-packages (from pandas) (2025.2)\n",
      "Requirement already satisfied: pytz>=2020.1 in .\\venv\\lib\\site-packages (from pandas) (2025.2)\n",
      "Requirement already satisfied: pillow>=8 in .\\venv\\lib\\site-packages (from matplotlib) (11.2.1)\n",
      "Requirement already satisfied: importlib-resources>=3.2.0 in .\\venv\\lib\\site-packages (from matplotlib) (6.5.2)\n",
      "Requirement already satisfied: kiwisolver>=1.3.1 in .\\venv\\lib\\site-packages (from matplotlib) (1.4.7)\n",
      "Requirement already satisfied: cycler>=0.10 in .\\venv\\lib\\site-packages (from matplotlib) (0.12.1)\n",
      "Requirement already satisfied: contourpy>=1.0.1 in .\\venv\\lib\\site-packages (from matplotlib) (1.3.0)\n",
      "Requirement already satisfied: packaging>=20.0 in .\\venv\\lib\\site-packages (from matplotlib) (25.0)\n",
      "Requirement already satisfied: fonttools>=4.22.0 in .\\venv\\lib\\site-packages (from matplotlib) (4.57.0)\n",
      "Requirement already satisfied: pyparsing>=2.3.1 in .\\venv\\lib\\site-packages (from matplotlib) (3.2.3)\n",
      "Requirement already satisfied: click in .\\venv\\lib\\site-packages (from nltk) (8.1.8)\n",
      "Requirement already satisfied: tqdm in .\\venv\\lib\\site-packages (from nltk) (4.67.1)\n",
      "Requirement already satisfied: regex>=2021.8.3 in .\\venv\\lib\\site-packages (from nltk) (2024.11.6)\n",
      "Requirement already satisfied: joblib in .\\venv\\lib\\site-packages (from nltk) (1.5.0)\n",
      "Requirement already satisfied: scipy>=1.6.0 in .\\venv\\lib\\site-packages (from scikit-learn) (1.13.1)\n",
      "Requirement already satisfied: threadpoolctl>=3.1.0 in .\\venv\\lib\\site-packages (from scikit-learn) (3.6.0)\n",
      "Requirement already satisfied: astunparse>=1.6.0 in .\\venv\\lib\\site-packages (from tensorflow) (1.6.3)\n",
      "Requirement already satisfied: ml-dtypes<1.0.0,>=0.5.1 in .\\venv\\lib\\site-packages (from tensorflow) (0.5.1)\n",
      "Requirement already satisfied: absl-py>=1.0.0 in .\\venv\\lib\\site-packages (from tensorflow) (2.2.2)\n",
      "Requirement already satisfied: typing-extensions>=3.6.6 in .\\venv\\lib\\site-packages (from tensorflow) (4.13.2)\n",
      "Requirement already satisfied: termcolor>=1.1.0 in .\\venv\\lib\\site-packages (from tensorflow) (3.1.0)\n",
      "Requirement already satisfied: h5py>=3.11.0 in .\\venv\\lib\\site-packages (from tensorflow) (3.13.0)\n",
      "Requirement already satisfied: gast!=0.5.0,!=0.5.1,!=0.5.2,>=0.2.1 in .\\venv\\lib\\site-packages (from tensorflow) (0.6.0)\n",
      "Requirement already satisfied: libclang>=13.0.0 in .\\venv\\lib\\site-packages (from tensorflow) (18.1.1)\n",
      "Requirement already satisfied: grpcio<2.0,>=1.24.3 in .\\venv\\lib\\site-packages (from tensorflow) (1.71.0)\n",
      "Requirement already satisfied: six>=1.12.0 in .\\venv\\lib\\site-packages (from tensorflow) (1.17.0)\n",
      "Requirement already satisfied: wrapt>=1.11.0 in .\\venv\\lib\\site-packages (from tensorflow) (1.17.2)\n",
      "Requirement already satisfied: tensorboard~=2.19.0 in .\\venv\\lib\\site-packages (from tensorflow) (2.19.0)\n",
      "Requirement already satisfied: requests<3,>=2.21.0 in .\\venv\\lib\\site-packages (from tensorflow) (2.32.3)\n",
      "Requirement already satisfied: setuptools in .\\venv\\lib\\site-packages (from tensorflow) (57.4.0)\n",
      "Requirement already satisfied: protobuf!=4.21.0,!=4.21.1,!=4.21.2,!=4.21.3,!=4.21.4,!=4.21.5,<6.0.0dev,>=3.20.3 in .\\venv\\lib\\site-packages (from tensorflow) (5.29.4)\n",
      "Requirement already satisfied: google-pasta>=0.1.1 in .\\venv\\lib\\site-packages (from tensorflow) (0.2.0)\n",
      "Requirement already satisfied: keras>=3.5.0 in .\\venv\\lib\\site-packages (from tensorflow) (3.9.2)\n",
      "Requirement already satisfied: flatbuffers>=24.3.25 in .\\venv\\lib\\site-packages (from tensorflow) (25.2.10)\n",
      "Requirement already satisfied: tensorflow-io-gcs-filesystem>=0.23.1 in .\\venv\\lib\\site-packages (from tensorflow) (0.31.0)\n",
      "Requirement already satisfied: opt-einsum>=2.3.2 in .\\venv\\lib\\site-packages (from tensorflow) (3.4.0)\n",
      "Requirement already satisfied: wheel<1.0,>=0.23.0 in .\\venv\\lib\\site-packages (from astunparse>=1.6.0->tensorflow) (0.45.1)\n",
      "Requirement already satisfied: zipp>=3.1.0 in .\\venv\\lib\\site-packages (from importlib-resources>=3.2.0->matplotlib) (3.21.0)\n",
      "Requirement already satisfied: optree in .\\venv\\lib\\site-packages (from keras>=3.5.0->tensorflow) (0.15.0)\n",
      "Requirement already satisfied: namex in .\\venv\\lib\\site-packages (from keras>=3.5.0->tensorflow) (0.0.9)\n",
      "Requirement already satisfied: rich in .\\venv\\lib\\site-packages (from keras>=3.5.0->tensorflow) (14.0.0)\n",
      "Requirement already satisfied: urllib3<3,>=1.21.1 in .\\venv\\lib\\site-packages (from requests<3,>=2.21.0->tensorflow) (2.4.0)\n",
      "Requirement already satisfied: idna<4,>=2.5 in .\\venv\\lib\\site-packages (from requests<3,>=2.21.0->tensorflow) (3.10)\n",
      "Requirement already satisfied: charset-normalizer<4,>=2 in .\\venv\\lib\\site-packages (from requests<3,>=2.21.0->tensorflow) (3.4.2)\n",
      "Requirement already satisfied: certifi>=2017.4.17 in .\\venv\\lib\\site-packages (from requests<3,>=2.21.0->tensorflow) (2025.4.26)\n",
      "Requirement already satisfied: tensorboard-data-server<0.8.0,>=0.7.0 in .\\venv\\lib\\site-packages (from tensorboard~=2.19.0->tensorflow) (0.7.2)\n",
      "Requirement already satisfied: markdown>=2.6.8 in .\\venv\\lib\\site-packages (from tensorboard~=2.19.0->tensorflow) (3.8)\n",
      "Requirement already satisfied: werkzeug>=1.0.1 in .\\venv\\lib\\site-packages (from tensorboard~=2.19.0->tensorflow) (3.1.3)\n",
      "Requirement already satisfied: importlib-metadata>=4.4 in .\\venv\\lib\\site-packages (from markdown>=2.6.8->tensorboard~=2.19.0->tensorflow) (8.7.0)\n",
      "Requirement already satisfied: MarkupSafe>=2.1.1 in .\\venv\\lib\\site-packages (from werkzeug>=1.0.1->tensorboard~=2.19.0->tensorflow) (3.0.2)\n",
      "Requirement already satisfied: colorama in .\\venv\\lib\\site-packages (from click->nltk) (0.4.6)\n",
      "Requirement already satisfied: pygments<3.0.0,>=2.13.0 in .\\venv\\lib\\site-packages (from rich->keras>=3.5.0->tensorflow) (2.19.1)\n",
      "Requirement already satisfied: markdown-it-py>=2.2.0 in .\\venv\\lib\\site-packages (from rich->keras>=3.5.0->tensorflow) (3.0.0)\n",
      "Requirement already satisfied: mdurl~=0.1 in .\\venv\\lib\\site-packages (from markdown-it-py>=2.2.0->rich->keras>=3.5.0->tensorflow) (0.1.2)\n",
      "Installing collected packages: tensorflow\n",
      "Successfully installed tensorflow-2.19.0\n",
      "Note: you may need to restart the kernel to use updated packages.\n"
     ]
    },
    {
     "name": "stderr",
     "output_type": "stream",
     "text": [
      "WARNING: You are using pip version 21.2.3; however, version 25.1.1 is available.\n",
      "You should consider upgrading via the 'd:\\assignment 3\\venv\\Scripts\\python.exe -m pip install --upgrade pip' command.\n"
     ]
    }
   ],
   "source": [
    "## Installing some libraries and packages.\n",
    "%pip install pandas numpy matplotlib seaborn nltk scikit-learn tensorflow"
   ]
  },
  {
   "cell_type": "code",
   "execution_count": 83,
   "metadata": {},
   "outputs": [],
   "source": [
    "import pandas as pd\n",
    "import numpy as np\n",
    "import matplotlib.pyplot as plt\n",
    "import re\n",
    "import nltk\n",
    "from nltk.corpus import stopwords\n",
    "from nltk.tokenize import word_tokenize\n",
    "from nltk.stem import PorterStemmer\n",
    "from sklearn.model_selection import train_test_split\n",
    "from sklearn.feature_extraction.text import TfidfVectorizer, CountVectorizer\n",
    "from sklearn.preprocessing import LabelEncoder\n",
    "from sklearn.metrics import classification_report, confusion_matrix, accuracy_score\n",
    "from sklearn.utils import class_weight\n",
    "import tensorflow as tf\n",
    "from tensorflow.keras.models import Sequential\n",
    "from tensorflow.keras.layers import Dense, Dropout\n",
    "from tensorflow.keras.callbacks import EarlyStopping\n",
    "from tensorflow.keras import regularizers\n",
    "from tensorflow.keras.optimizers import Adam\n",
    "import seaborn as sns\n",
    "from nltk.stem import WordNetLemmatizer\n",
    "from nltk.corpus import wordnet # For POS tagging if doing advanced lemmatization"
   ]
  },
  {
   "cell_type": "code",
   "execution_count": 54,
   "metadata": {},
   "outputs": [
    {
     "name": "stderr",
     "output_type": "stream",
     "text": [
      "[nltk_data] Downloading package punkt_tab to\n",
      "[nltk_data]     C:\\Users\\KIIT\\AppData\\Roaming\\nltk_data...\n",
      "[nltk_data]   Package punkt_tab is already up-to-date!\n",
      "[nltk_data] Downloading package stopwords to\n",
      "[nltk_data]     C:\\Users\\KIIT\\AppData\\Roaming\\nltk_data...\n",
      "[nltk_data]   Package stopwords is already up-to-date!\n",
      "[nltk_data] Downloading package wordnet to\n",
      "[nltk_data]     C:\\Users\\KIIT\\AppData\\Roaming\\nltk_data...\n",
      "[nltk_data] Downloading package averaged_perceptron_tagger to\n",
      "[nltk_data]     C:\\Users\\KIIT\\AppData\\Roaming\\nltk_data...\n",
      "[nltk_data]   Unzipping taggers\\averaged_perceptron_tagger.zip.\n"
     ]
    },
    {
     "data": {
      "text/plain": [
       "True"
      ]
     },
     "execution_count": 54,
     "metadata": {},
     "output_type": "execute_result"
    }
   ],
   "source": [
    "nltk.download(\"punkt_tab\")\n",
    "nltk.download(\"stopwords\")\n",
    "nltk.download('wordnet')\n",
    "nltk.download('averaged_perceptron_tagger')"
   ]
  },
  {
   "cell_type": "code",
   "execution_count": 56,
   "metadata": {},
   "outputs": [],
   "source": [
    "np.random.seed(42)\n",
    "tf.random.set_seed(41)"
   ]
  },
  {
   "cell_type": "markdown",
   "metadata": {},
   "source": [
    "## Loading the dataset"
   ]
  },
  {
   "cell_type": "code",
   "execution_count": 57,
   "metadata": {},
   "outputs": [
    {
     "data": {
      "text/html": [
       "<div>\n",
       "<style scoped>\n",
       "    .dataframe tbody tr th:only-of-type {\n",
       "        vertical-align: middle;\n",
       "    }\n",
       "\n",
       "    .dataframe tbody tr th {\n",
       "        vertical-align: top;\n",
       "    }\n",
       "\n",
       "    .dataframe thead th {\n",
       "        text-align: right;\n",
       "    }\n",
       "</style>\n",
       "<table border=\"1\" class=\"dataframe\">\n",
       "  <thead>\n",
       "    <tr style=\"text-align: right;\">\n",
       "      <th></th>\n",
       "      <th>Review</th>\n",
       "      <th>Overall_Rating</th>\n",
       "    </tr>\n",
       "  </thead>\n",
       "  <tbody>\n",
       "    <tr>\n",
       "      <th>0</th>\n",
       "      <td>Moroni to Moheli. Turned out to be a pretty ...</td>\n",
       "      <td>9</td>\n",
       "    </tr>\n",
       "    <tr>\n",
       "      <th>1</th>\n",
       "      <td>Moroni to Anjouan. It is a very small airline...</td>\n",
       "      <td>1</td>\n",
       "    </tr>\n",
       "    <tr>\n",
       "      <th>2</th>\n",
       "      <td>Anjouan to Dzaoudzi. A very small airline an...</td>\n",
       "      <td>1</td>\n",
       "    </tr>\n",
       "    <tr>\n",
       "      <th>3</th>\n",
       "      <td>Please do a favor yourself and do not fly wi...</td>\n",
       "      <td>1</td>\n",
       "    </tr>\n",
       "    <tr>\n",
       "      <th>4</th>\n",
       "      <td>Do not book a flight with this airline! My fr...</td>\n",
       "      <td>1</td>\n",
       "    </tr>\n",
       "    <tr>\n",
       "      <th>...</th>\n",
       "      <td>...</td>\n",
       "      <td>...</td>\n",
       "    </tr>\n",
       "    <tr>\n",
       "      <th>23166</th>\n",
       "      <td>Bangkok to Tokyo. I’ve flown many low cost ai...</td>\n",
       "      <td>1</td>\n",
       "    </tr>\n",
       "    <tr>\n",
       "      <th>23167</th>\n",
       "      <td>Avoid at all costs. I booked flights to go f...</td>\n",
       "      <td>1</td>\n",
       "    </tr>\n",
       "    <tr>\n",
       "      <th>23168</th>\n",
       "      <td>Flight was leaving at 23.15 and after an hou...</td>\n",
       "      <td>3</td>\n",
       "    </tr>\n",
       "    <tr>\n",
       "      <th>23169</th>\n",
       "      <td>Zipair is JAL’s budget airline. They don’t ha...</td>\n",
       "      <td>6</td>\n",
       "    </tr>\n",
       "    <tr>\n",
       "      <th>23170</th>\n",
       "      <td>They lied about connection in Narita and we ...</td>\n",
       "      <td>1</td>\n",
       "    </tr>\n",
       "  </tbody>\n",
       "</table>\n",
       "<p>23171 rows × 2 columns</p>\n",
       "</div>"
      ],
      "text/plain": [
       "                                                  Review Overall_Rating\n",
       "0        Moroni to Moheli. Turned out to be a pretty ...              9\n",
       "1       Moroni to Anjouan. It is a very small airline...              1\n",
       "2        Anjouan to Dzaoudzi. A very small airline an...              1\n",
       "3        Please do a favor yourself and do not fly wi...              1\n",
       "4       Do not book a flight with this airline! My fr...              1\n",
       "...                                                  ...            ...\n",
       "23166   Bangkok to Tokyo. I’ve flown many low cost ai...              1\n",
       "23167    Avoid at all costs. I booked flights to go f...              1\n",
       "23168    Flight was leaving at 23.15 and after an hou...              3\n",
       "23169   Zipair is JAL’s budget airline. They don’t ha...              6\n",
       "23170    They lied about connection in Narita and we ...              1\n",
       "\n",
       "[23171 rows x 2 columns]"
      ]
     },
     "execution_count": 57,
     "metadata": {},
     "output_type": "execute_result"
    }
   ],
   "source": [
    "df = pd.read_csv(\"Airline_Reviews.csv\")\n",
    "\n",
    "# print(f\"Dataset Shape: {df.shape}\")\n",
    "# print(f\"The missing values: {df.isnull().sum()}\")\n",
    "# print(f\"Overall ratings:\")\n",
    "# print(df[\"Overall_Rating\"].value_counts().sort_index())\n",
    "\n",
    "# We have to drop the rest and keep the only relevant information for our project\n",
    "df = df[[\"Review\", \"Overall_Rating\"]].dropna()\n",
    "df"
   ]
  },
  {
   "cell_type": "code",
   "execution_count": 58,
   "metadata": {},
   "outputs": [
    {
     "data": {
      "text/html": [
       "<div>\n",
       "<style scoped>\n",
       "    .dataframe tbody tr th:only-of-type {\n",
       "        vertical-align: middle;\n",
       "    }\n",
       "\n",
       "    .dataframe tbody tr th {\n",
       "        vertical-align: top;\n",
       "    }\n",
       "\n",
       "    .dataframe thead th {\n",
       "        text-align: right;\n",
       "    }\n",
       "</style>\n",
       "<table border=\"1\" class=\"dataframe\">\n",
       "  <thead>\n",
       "    <tr style=\"text-align: right;\">\n",
       "      <th></th>\n",
       "      <th>Review</th>\n",
       "      <th>Overall_Rating</th>\n",
       "    </tr>\n",
       "  </thead>\n",
       "  <tbody>\n",
       "    <tr>\n",
       "      <th>0</th>\n",
       "      <td>Moroni to Moheli. Turned out to be a pretty ...</td>\n",
       "      <td>9</td>\n",
       "    </tr>\n",
       "    <tr>\n",
       "      <th>1</th>\n",
       "      <td>Moroni to Anjouan. It is a very small airline...</td>\n",
       "      <td>1</td>\n",
       "    </tr>\n",
       "    <tr>\n",
       "      <th>2</th>\n",
       "      <td>Anjouan to Dzaoudzi. A very small airline an...</td>\n",
       "      <td>1</td>\n",
       "    </tr>\n",
       "    <tr>\n",
       "      <th>3</th>\n",
       "      <td>Please do a favor yourself and do not fly wi...</td>\n",
       "      <td>1</td>\n",
       "    </tr>\n",
       "    <tr>\n",
       "      <th>4</th>\n",
       "      <td>Do not book a flight with this airline! My fr...</td>\n",
       "      <td>1</td>\n",
       "    </tr>\n",
       "  </tbody>\n",
       "</table>\n",
       "</div>"
      ],
      "text/plain": [
       "                                              Review Overall_Rating\n",
       "0    Moroni to Moheli. Turned out to be a pretty ...              9\n",
       "1   Moroni to Anjouan. It is a very small airline...              1\n",
       "2    Anjouan to Dzaoudzi. A very small airline an...              1\n",
       "3    Please do a favor yourself and do not fly wi...              1\n",
       "4   Do not book a flight with this airline! My fr...              1"
      ]
     },
     "execution_count": 58,
     "metadata": {},
     "output_type": "execute_result"
    }
   ],
   "source": [
    "df.head()"
   ]
  },
  {
   "cell_type": "code",
   "execution_count": 59,
   "metadata": {},
   "outputs": [
    {
     "data": {
      "text/plain": [
       "Review            0\n",
       "Overall_Rating    0\n",
       "dtype: int64"
      ]
     },
     "execution_count": 59,
     "metadata": {},
     "output_type": "execute_result"
    }
   ],
   "source": [
    "## Check if there is null values\n",
    "df.isnull().sum()"
   ]
  },
  {
   "cell_type": "code",
   "execution_count": 60,
   "metadata": {},
   "outputs": [],
   "source": [
    "# Splitting data into dependent and independent variables \n",
    "X = df[\"Review\"]\n",
    "y = df[\"Overall_Rating\"]"
   ]
  },
  {
   "cell_type": "code",
   "execution_count": 61,
   "metadata": {},
   "outputs": [],
   "source": [
    "# # Splitting data into train and test dataset\n",
    "# X_train, X_test, y_train, y_test = train_test_split(X, y, test_size=0.20, random_state=42)"
   ]
  },
  {
   "cell_type": "markdown",
   "metadata": {},
   "source": [
    "## Data Preprocessing"
   ]
  },
  {
   "cell_type": "code",
   "execution_count": 69,
   "metadata": {},
   "outputs": [],
   "source": [
    "# A function that handles the data preprocessing\n",
    "\n",
    "def preprocess_text(text):\n",
    "    # Handle non-string inputs\n",
    "    if not isinstance(text, str):\n",
    "        return \"\"\n",
    "\n",
    "    # Convert to lowercase\n",
    "    text = text.lower()\n",
    "\n",
    "    # Remove HTML tags\n",
    "    text = re.sub(r'<.*?>', \"\", text)\n",
    "\n",
    "    # Remove special characters but keep spaces\n",
    "    text = re.sub(r'[^a-zA-Z\\s]', \" \", text)\n",
    "\n",
    "    # Tokenization\n",
    "    tokens = word_tokenize(text)\n",
    "\n",
    "    # Remove stopwords\n",
    "    stop_words = set(stopwords.words('english'))\n",
    "    tokens = [\n",
    "        word for word in tokens if word not in stop_words and len(word) > 1]\n",
    "\n",
    "    # # Stemming\n",
    "    # stemmer = PorterStemmer()\n",
    "    # tokens = [stemmer.stem(word) for word in tokens]\n",
    "    # Stemming\n",
    "    lemantizer = WordNetLemmatizer()\n",
    "    tokens = [lemantizer.lemmatize(word) for word in tokens]\n",
    "\n",
    "    # Join tokens back into a string\n",
    "    return ' '.join(tokens)"
   ]
  },
  {
   "cell_type": "code",
   "execution_count": 144,
   "metadata": {},
   "outputs": [],
   "source": [
    "# --- Group Ratings into Categories ---\n",
    "def map_rating_to_sentiment(rating):\n",
    "    rating = int(rating)  # Ensure rating is an integer\n",
    "    if 1 <= rating <= 3:\n",
    "        return 0  # Negative\n",
    "    elif 4 <= rating <= 7:\n",
    "        return 1  # Neutral\n",
    "    elif 8 <= rating <= 10:\n",
    "        return 2  # Positive\n",
    "    return None  # Should not happen if data is clean\n",
    "\n",
    "\n",
    "df['Overall_Rating'] = df['Overall_Rating'].apply(map_rating_to_sentiment)\n",
    "# Drop any rows where mapping might have failed (if any rating was outside 1-10 initially)\n",
    "df = df.dropna(subset=['Overall_Rating'])\n",
    "# Ensure the new ratings are integers (0, 1, 2)\n",
    "df['Overall_Rating'] = df['Overall_Rating'].astype(int)\n",
    "# --- End of Rating Grouping ---"
   ]
  },
  {
   "cell_type": "code",
   "execution_count": 70,
   "metadata": {},
   "outputs": [],
   "source": [
    "# df[\"Processed_Review\"] = df[\"Review\"].apply(preprocess_text)\n",
    "# # Convert the rows with empty processed reviews\n",
    "# df = df[df['Processed_Review'].str.strip() != '']\n",
    "# # Convert ratings to numeric if they're not already\n",
    "# df['Overall_Rating'] = pd.to_numeric(df['Overall_Rating'], errors='coerce')\n",
    "# # Drop any rows with NaN ratings after conversion\n",
    "# df = df.dropna(subset=['Overall_Rating'])\n",
    "# # Convert ratings to integers\n",
    "# df['Overall_Rating'] = df['Overall_Rating'].astype(int)"
   ]
  },
  {
   "cell_type": "code",
   "execution_count": 145,
   "metadata": {},
   "outputs": [
    {
     "data": {
      "image/png": "[encoded data removed]",
      "text/plain": [
       "<Figure size 1000x600 with 1 Axes>"
      ]
     },
     "metadata": {},
     "output_type": "display_data"
    }
   ],
   "source": [
    "# Visualize rating distribution\n",
    "plt.figure(figsize=(10, 6))\n",
    "sns.countplot(x='Overall_Rating', data=df)\n",
    "plt.title('Distribution of Airline Ratings')\n",
    "plt.xlabel('Rating')\n",
    "plt.ylabel('Count')\n",
    "plt.show()"
   ]
  },
  {
   "cell_type": "code",
   "execution_count": 146,
   "metadata": {},
   "outputs": [],
   "source": [
    "X_train, X_test, y_train, y_test = train_test_split(\n",
    "    df['Processed_Review'],\n",
    "    df['Overall_Rating'],\n",
    "    test_size=0.2,\n",
    "    random_state=42,\n",
    "    stratify=df['Overall_Rating']\n",
    ")"
   ]
  },
  {
   "cell_type": "code",
   "execution_count": 148,
   "metadata": {},
   "outputs": [
    {
     "data": {
      "text/plain": [
       "9168     0\n",
       "2413     0\n",
       "15588    2\n",
       "3714     0\n",
       "11257    0\n",
       "Name: Overall_Rating, dtype: int64"
      ]
     },
     "execution_count": 148,
     "metadata": {},
     "output_type": "execute_result"
    }
   ],
   "source": [
    "y_train.head()"
   ]
  },
  {
   "cell_type": "markdown",
   "metadata": {},
   "source": [
    "## Embeddings"
   ]
  },
  {
   "cell_type": "code",
   "execution_count": 149,
   "metadata": {},
   "outputs": [],
   "source": [
    "tfidf_vectorizer = TfidfVectorizer(min_df=2, max_features=3000)\n",
    "X_train_tfidf = tfidf_vectorizer.fit_transform(X_train)\n",
    "X_test_tfidf = tfidf_vectorizer.transform(X_test)"
   ]
  },
  {
   "cell_type": "code",
   "execution_count": 150,
   "metadata": {},
   "outputs": [
    {
     "name": "stdout",
     "output_type": "stream",
     "text": [
      "[[0.         0.         0.         0.         0.         0.\n",
      "  0.         0.         0.         0.         0.         0.\n",
      "  0.         0.         0.         0.         0.         0.\n",
      "  0.         0.         0.         0.         0.         0.\n",
      "  0.         0.         0.         0.         0.         0.\n",
      "  0.         0.         0.         0.         0.         0.\n",
      "  0.         0.         0.         0.         0.         0.\n",
      "  0.         0.         0.         0.         0.         0.\n",
      "  0.         0.         0.         0.         0.         0.\n",
      "  0.         0.         0.         0.         0.         0.\n",
      "  0.         0.         0.         0.         0.         0.\n",
      "  0.         0.         0.         0.         0.         0.\n",
      "  0.         0.         0.         0.         0.         0.\n",
      "  0.         0.         0.         0.         0.         0.\n",
      "  0.         0.         0.         0.         0.         0.\n",
      "  0.         0.         0.         0.         0.         0.\n",
      "  0.         0.         0.         0.        ]\n",
      " [0.         0.         0.         0.         0.         0.\n",
      "  0.         0.         0.         0.         0.         0.\n",
      "  0.         0.         0.         0.         0.         0.\n",
      "  0.         0.         0.         0.         0.         0.\n",
      "  0.         0.         0.         0.         0.         0.\n",
      "  0.         0.         0.         0.         0.         0.\n",
      "  0.         0.         0.         0.         0.         0.\n",
      "  0.         0.         0.         0.         0.         0.\n",
      "  0.         0.         0.         0.         0.         0.\n",
      "  0.         0.         0.         0.         0.         0.\n",
      "  0.         0.         0.         0.         0.         0.\n",
      "  0.         0.         0.         0.         0.         0.\n",
      "  0.         0.         0.         0.12193211 0.         0.\n",
      "  0.         0.         0.17123693 0.         0.         0.\n",
      "  0.         0.         0.05241123 0.         0.         0.\n",
      "  0.         0.         0.         0.         0.         0.\n",
      "  0.         0.         0.         0.        ]\n",
      " [0.         0.         0.         0.         0.         0.\n",
      "  0.         0.         0.         0.         0.         0.\n",
      "  0.         0.         0.         0.         0.         0.\n",
      "  0.         0.         0.         0.         0.         0.\n",
      "  0.         0.         0.         0.         0.         0.\n",
      "  0.         0.         0.         0.         0.         0.\n",
      "  0.         0.         0.         0.         0.         0.\n",
      "  0.         0.         0.         0.         0.         0.\n",
      "  0.         0.         0.         0.         0.         0.\n",
      "  0.         0.         0.         0.         0.         0.\n",
      "  0.         0.         0.         0.         0.         0.\n",
      "  0.         0.         0.         0.         0.         0.\n",
      "  0.         0.         0.         0.11662977 0.         0.\n",
      "  0.         0.         0.         0.         0.         0.\n",
      "  0.         0.         0.         0.         0.         0.\n",
      "  0.         0.         0.         0.         0.         0.\n",
      "  0.         0.         0.         0.        ]\n",
      " [0.         0.         0.         0.         0.         0.\n",
      "  0.         0.         0.         0.         0.         0.\n",
      "  0.         0.         0.         0.         0.         0.\n",
      "  0.         0.         0.         0.         0.         0.\n",
      "  0.         0.         0.         0.         0.         0.\n",
      "  0.         0.         0.         0.         0.         0.\n",
      "  0.         0.         0.         0.         0.         0.\n",
      "  0.         0.         0.         0.         0.         0.\n",
      "  0.         0.         0.         0.         0.         0.\n",
      "  0.         0.         0.         0.         0.         0.\n",
      "  0.         0.         0.         0.         0.         0.\n",
      "  0.         0.         0.         0.         0.         0.\n",
      "  0.         0.         0.         0.         0.         0.\n",
      "  0.         0.         0.         0.         0.         0.\n",
      "  0.20359758 0.         0.         0.         0.         0.\n",
      "  0.         0.         0.         0.         0.         0.\n",
      "  0.         0.         0.         0.        ]\n",
      " [0.         0.         0.         0.         0.         0.\n",
      "  0.         0.         0.         0.         0.         0.\n",
      "  0.         0.         0.         0.         0.         0.\n",
      "  0.         0.         0.         0.         0.         0.\n",
      "  0.         0.         0.         0.         0.         0.\n",
      "  0.         0.         0.         0.         0.         0.\n",
      "  0.         0.         0.         0.         0.         0.\n",
      "  0.         0.         0.         0.         0.         0.\n",
      "  0.         0.         0.         0.         0.         0.\n",
      "  0.         0.         0.         0.         0.         0.\n",
      "  0.         0.         0.         0.         0.         0.\n",
      "  0.         0.         0.         0.         0.         0.\n",
      "  0.         0.         0.         0.         0.         0.\n",
      "  0.         0.         0.         0.         0.         0.\n",
      "  0.         0.         0.08951661 0.         0.         0.\n",
      "  0.         0.         0.         0.         0.         0.\n",
      "  0.         0.         0.         0.        ]]\n"
     ]
    }
   ],
   "source": [
    "sample_tfidf = X_train_tfidf[:5, :100].toarray()\n",
    "print(sample_tfidf)"
   ]
  },
  {
   "cell_type": "code",
   "execution_count": 151,
   "metadata": {},
   "outputs": [],
   "source": [
    "# Prepare the labels (subtract 1 to make ratings 0-based for compatibility with softmax)\n",
    "label_encoder = LabelEncoder()\n",
    "y_train_encoded = label_encoder.fit_transform(y_train)\n",
    "y_test_encoded = label_encoder.transform(y_test)"
   ]
  },
  {
   "cell_type": "code",
   "execution_count": 152,
   "metadata": {},
   "outputs": [],
   "source": [
    "# Convert to one-hot encoded vectors\n",
    "num_classes = len(np.unique(y_train_encoded))\n",
    "y_train_categorical = tf.keras.utils.to_categorical(\n",
    "    y_train_encoded, num_classes)\n",
    "y_test_categorical = tf.keras.utils.to_categorical(y_test_encoded, num_classes)"
   ]
  },
  {
   "cell_type": "code",
   "execution_count": 153,
   "metadata": {},
   "outputs": [],
   "source": [
    "# Calculate class weights to handle imbalanced data\n",
    "class_weights = class_weight.compute_class_weight(\n",
    "    class_weight='balanced',\n",
    "    classes=np.unique(y_train_encoded),\n",
    "    y=y_train_encoded\n",
    ")\n",
    "class_weight_dict = dict(enumerate(class_weights))"
   ]
  },
  {
   "cell_type": "markdown",
   "metadata": {},
   "source": [
    "## Build the model"
   ]
  },
  {
   "cell_type": "code",
   "execution_count": 154,
   "metadata": {},
   "outputs": [],
   "source": [
    "def build_the_model(input_dim, output_dim):\n",
    "  model = Sequential([\n",
    "      Dense(64, activation='relu', input_dim=input_dim,\n",
    "            kernel_regularizer=regularizers.l2(0.01)),\n",
    "      Dropout(0.5),\n",
    "      Dense(64, activation='relu',\n",
    "            kernel_regularizer=regularizers.l2(0.01)),\n",
    "      Dropout(0.5),\n",
    "      Dense(output_dim, activation='softmax')\n",
    "  ])\n",
    "\n",
    "  model.compile(\n",
    "      optimizer=Adam(learning_rate=0.0001),\n",
    "      loss=\"categorical_crossentropy\",\n",
    "      metrics=[\"accuracy\"]\n",
    "  )\n",
    "\n",
    "  return model"
   ]
  },
  {
   "cell_type": "code",
   "execution_count": 155,
   "metadata": {},
   "outputs": [
    {
     "name": "stderr",
     "output_type": "stream",
     "text": [
      "d:\\assignment 3\\venv\\lib\\site-packages\\keras\\src\\layers\\core\\dense.py:87: UserWarning: Do not pass an `input_shape`/`input_dim` argument to a layer. When using Sequential models, prefer using an `Input(shape)` object as the first layer in the model instead.\n",
      "  super().__init__(activity_regularizer=activity_regularizer, **kwargs)\n"
     ]
    },
    {
     "name": "stdout",
     "output_type": "stream",
     "text": [
      "Epoch 1/100\n",
      "\u001b[1m224/224\u001b[0m \u001b[32m━━━━━━━━━━━━━━━━━━━━\u001b[0m\u001b[37m\u001b[0m \u001b[1m3s\u001b[0m 7ms/step - accuracy: 0.3411 - loss: 2.6185 - val_accuracy: 0.6370 - val_loss: 1.8788\n",
      "Epoch 2/100\n",
      "\u001b[1m224/224\u001b[0m \u001b[32m━━━━━━━━━━━━━━━━━━━━\u001b[0m\u001b[37m\u001b[0m \u001b[1m1s\u001b[0m 6ms/step - accuracy: 0.5454 - loss: 1.7507 - val_accuracy: 0.6975 - val_loss: 1.4869\n",
      "Epoch 3/100\n",
      "\u001b[1m224/224\u001b[0m \u001b[32m━━━━━━━━━━━━━━━━━━━━\u001b[0m\u001b[37m\u001b[0m \u001b[1m1s\u001b[0m 6ms/step - accuracy: 0.6459 - loss: 1.4398 - val_accuracy: 0.6921 - val_loss: 1.3059\n",
      "Epoch 4/100\n",
      "\u001b[1m224/224\u001b[0m \u001b[32m━━━━━━━━━━━━━━━━━━━━\u001b[0m\u001b[37m\u001b[0m \u001b[1m1s\u001b[0m 5ms/step - accuracy: 0.6664 - loss: 1.2881 - val_accuracy: 0.6980 - val_loss: 1.1742\n",
      "Epoch 5/100\n",
      "\u001b[1m224/224\u001b[0m \u001b[32m━━━━━━━━━━━━━━━━━━━━\u001b[0m\u001b[37m\u001b[0m \u001b[1m1s\u001b[0m 5ms/step - accuracy: 0.6833 - loss: 1.1861 - val_accuracy: 0.7067 - val_loss: 1.0676\n",
      "Epoch 6/100\n",
      "\u001b[1m224/224\u001b[0m \u001b[32m━━━━━━━━━━━━━━━━━━━━\u001b[0m\u001b[37m\u001b[0m \u001b[1m1s\u001b[0m 6ms/step - accuracy: 0.6942 - loss: 1.1119 - val_accuracy: 0.7092 - val_loss: 1.0016\n",
      "Epoch 7/100\n",
      "\u001b[1m224/224\u001b[0m \u001b[32m━━━━━━━━━━━━━━━━━━━━\u001b[0m\u001b[37m\u001b[0m \u001b[1m1s\u001b[0m 6ms/step - accuracy: 0.6969 - loss: 1.0566 - val_accuracy: 0.7117 - val_loss: 0.9535\n",
      "Epoch 8/100\n",
      "\u001b[1m224/224\u001b[0m \u001b[32m━━━━━━━━━━━━━━━━━━━━\u001b[0m\u001b[37m\u001b[0m \u001b[1m1s\u001b[0m 5ms/step - accuracy: 0.6998 - loss: 1.0236 - val_accuracy: 0.7117 - val_loss: 0.9239\n",
      "Epoch 9/100\n",
      "\u001b[1m224/224\u001b[0m \u001b[32m━━━━━━━━━━━━━━━━━━━━\u001b[0m\u001b[37m\u001b[0m \u001b[1m1s\u001b[0m 6ms/step - accuracy: 0.7015 - loss: 0.9961 - val_accuracy: 0.7128 - val_loss: 0.9034\n",
      "Epoch 10/100\n",
      "\u001b[1m224/224\u001b[0m \u001b[32m━━━━━━━━━━━━━━━━━━━━\u001b[0m\u001b[37m\u001b[0m \u001b[1m1s\u001b[0m 6ms/step - accuracy: 0.7059 - loss: 0.9774 - val_accuracy: 0.7128 - val_loss: 0.8842\n",
      "Epoch 11/100\n",
      "\u001b[1m224/224\u001b[0m \u001b[32m━━━━━━━━━━━━━━━━━━━━\u001b[0m\u001b[37m\u001b[0m \u001b[1m1s\u001b[0m 6ms/step - accuracy: 0.7114 - loss: 0.9573 - val_accuracy: 0.7131 - val_loss: 0.8758\n",
      "Epoch 12/100\n",
      "\u001b[1m224/224\u001b[0m \u001b[32m━━━━━━━━━━━━━━━━━━━━\u001b[0m\u001b[37m\u001b[0m \u001b[1m1s\u001b[0m 5ms/step - accuracy: 0.7083 - loss: 0.9501 - val_accuracy: 0.7140 - val_loss: 0.8613\n",
      "Epoch 13/100\n",
      "\u001b[1m224/224\u001b[0m \u001b[32m━━━━━━━━━━━━━━━━━━━━\u001b[0m\u001b[37m\u001b[0m \u001b[1m1s\u001b[0m 6ms/step - accuracy: 0.7095 - loss: 0.9406 - val_accuracy: 0.7120 - val_loss: 0.8603\n",
      "Epoch 14/100\n",
      "\u001b[1m224/224\u001b[0m \u001b[32m━━━━━━━━━━━━━━━━━━━━\u001b[0m\u001b[37m\u001b[0m \u001b[1m1s\u001b[0m 5ms/step - accuracy: 0.7109 - loss: 0.9390 - val_accuracy: 0.7134 - val_loss: 0.8502\n",
      "Epoch 15/100\n",
      "\u001b[1m224/224\u001b[0m \u001b[32m━━━━━━━━━━━━━━━━━━━━\u001b[0m\u001b[37m\u001b[0m \u001b[1m1s\u001b[0m 6ms/step - accuracy: 0.7170 - loss: 0.9286 - val_accuracy: 0.7151 - val_loss: 0.8470\n",
      "Epoch 16/100\n",
      "\u001b[1m224/224\u001b[0m \u001b[32m━━━━━━━━━━━━━━━━━━━━\u001b[0m\u001b[37m\u001b[0m \u001b[1m1s\u001b[0m 6ms/step - accuracy: 0.7086 - loss: 0.9267 - val_accuracy: 0.7156 - val_loss: 0.8429\n",
      "Epoch 17/100\n",
      "\u001b[1m224/224\u001b[0m \u001b[32m━━━━━━━━━━━━━━━━━━━━\u001b[0m\u001b[37m\u001b[0m \u001b[1m1s\u001b[0m 6ms/step - accuracy: 0.7182 - loss: 0.9223 - val_accuracy: 0.7156 - val_loss: 0.8405\n",
      "Epoch 18/100\n",
      "\u001b[1m224/224\u001b[0m \u001b[32m━━━━━━━━━━━━━━━━━━━━\u001b[0m\u001b[37m\u001b[0m \u001b[1m1s\u001b[0m 6ms/step - accuracy: 0.7186 - loss: 0.9150 - val_accuracy: 0.7142 - val_loss: 0.8380\n",
      "Epoch 19/100\n",
      "\u001b[1m224/224\u001b[0m \u001b[32m━━━━━━━━━━━━━━━━━━━━\u001b[0m\u001b[37m\u001b[0m \u001b[1m1s\u001b[0m 6ms/step - accuracy: 0.7142 - loss: 0.9160 - val_accuracy: 0.7140 - val_loss: 0.8346\n",
      "Epoch 20/100\n",
      "\u001b[1m224/224\u001b[0m \u001b[32m━━━━━━━━━━━━━━━━━━━━\u001b[0m\u001b[37m\u001b[0m \u001b[1m1s\u001b[0m 6ms/step - accuracy: 0.7190 - loss: 0.9127 - val_accuracy: 0.7128 - val_loss: 0.8339\n",
      "Epoch 21/100\n",
      "\u001b[1m224/224\u001b[0m \u001b[32m━━━━━━━━━━━━━━━━━━━━\u001b[0m\u001b[37m\u001b[0m \u001b[1m1s\u001b[0m 6ms/step - accuracy: 0.7204 - loss: 0.9073 - val_accuracy: 0.7112 - val_loss: 0.8335\n",
      "Epoch 22/100\n",
      "\u001b[1m224/224\u001b[0m \u001b[32m━━━━━━━━━━━━━━━━━━━━\u001b[0m\u001b[37m\u001b[0m \u001b[1m1s\u001b[0m 6ms/step - accuracy: 0.7157 - loss: 0.9058 - val_accuracy: 0.7123 - val_loss: 0.8274\n",
      "Epoch 23/100\n",
      "\u001b[1m224/224\u001b[0m \u001b[32m━━━━━━━━━━━━━━━━━━━━\u001b[0m\u001b[37m\u001b[0m \u001b[1m1s\u001b[0m 5ms/step - accuracy: 0.7238 - loss: 0.9066 - val_accuracy: 0.7148 - val_loss: 0.8241\n",
      "Epoch 24/100\n",
      "\u001b[1m224/224\u001b[0m \u001b[32m━━━━━━━━━━━━━━━━━━━━\u001b[0m\u001b[37m\u001b[0m \u001b[1m1s\u001b[0m 6ms/step - accuracy: 0.7231 - loss: 0.8987 - val_accuracy: 0.7134 - val_loss: 0.8274\n",
      "Epoch 25/100\n",
      "\u001b[1m224/224\u001b[0m \u001b[32m━━━━━━━━━━━━━━━━━━━━\u001b[0m\u001b[37m\u001b[0m \u001b[1m1s\u001b[0m 6ms/step - accuracy: 0.7184 - loss: 0.8983 - val_accuracy: 0.7142 - val_loss: 0.8216\n",
      "Epoch 26/100\n",
      "\u001b[1m224/224\u001b[0m \u001b[32m━━━━━━━━━━━━━━━━━━━━\u001b[0m\u001b[37m\u001b[0m \u001b[1m1s\u001b[0m 5ms/step - accuracy: 0.7204 - loss: 0.8957 - val_accuracy: 0.7142 - val_loss: 0.8249\n",
      "Epoch 27/100\n",
      "\u001b[1m224/224\u001b[0m \u001b[32m━━━━━━━━━━━━━━━━━━━━\u001b[0m\u001b[37m\u001b[0m \u001b[1m1s\u001b[0m 5ms/step - accuracy: 0.7215 - loss: 0.8970 - val_accuracy: 0.7140 - val_loss: 0.8226\n",
      "Epoch 28/100\n",
      "\u001b[1m224/224\u001b[0m \u001b[32m━━━━━━━━━━━━━━━━━━━━\u001b[0m\u001b[37m\u001b[0m \u001b[1m1s\u001b[0m 6ms/step - accuracy: 0.7221 - loss: 0.8927 - val_accuracy: 0.7120 - val_loss: 0.8205\n",
      "Epoch 29/100\n",
      "\u001b[1m224/224\u001b[0m \u001b[32m━━━━━━━━━━━━━━━━━━━━\u001b[0m\u001b[37m\u001b[0m \u001b[1m1s\u001b[0m 6ms/step - accuracy: 0.7163 - loss: 0.8929 - val_accuracy: 0.7142 - val_loss: 0.8198\n",
      "Epoch 30/100\n",
      "\u001b[1m224/224\u001b[0m \u001b[32m━━━━━━━━━━━━━━━━━━━━\u001b[0m\u001b[37m\u001b[0m \u001b[1m2s\u001b[0m 7ms/step - accuracy: 0.7191 - loss: 0.8873 - val_accuracy: 0.7106 - val_loss: 0.8231\n",
      "Epoch 31/100\n",
      "\u001b[1m224/224\u001b[0m \u001b[32m━━━━━━━━━━━━━━━━━━━━\u001b[0m\u001b[37m\u001b[0m \u001b[1m1s\u001b[0m 6ms/step - accuracy: 0.7205 - loss: 0.8910 - val_accuracy: 0.7103 - val_loss: 0.8246\n",
      "Epoch 32/100\n",
      "\u001b[1m224/224\u001b[0m \u001b[32m━━━━━━━━━━━━━━━━━━━━\u001b[0m\u001b[37m\u001b[0m \u001b[1m1s\u001b[0m 5ms/step - accuracy: 0.7251 - loss: 0.8814 - val_accuracy: 0.7134 - val_loss: 0.8188\n",
      "Epoch 33/100\n",
      "\u001b[1m224/224\u001b[0m \u001b[32m━━━━━━━━━━━━━━━━━━━━\u001b[0m\u001b[37m\u001b[0m \u001b[1m1s\u001b[0m 6ms/step - accuracy: 0.7277 - loss: 0.8823 - val_accuracy: 0.7137 - val_loss: 0.8169\n",
      "Epoch 34/100\n",
      "\u001b[1m224/224\u001b[0m \u001b[32m━━━━━━━━━━━━━━━━━━━━\u001b[0m\u001b[37m\u001b[0m \u001b[1m1s\u001b[0m 5ms/step - accuracy: 0.7250 - loss: 0.8780 - val_accuracy: 0.7156 - val_loss: 0.8126\n",
      "Epoch 35/100\n",
      "\u001b[1m224/224\u001b[0m \u001b[32m━━━━━━━━━━━━━━━━━━━━\u001b[0m\u001b[37m\u001b[0m \u001b[1m1s\u001b[0m 6ms/step - accuracy: 0.7242 - loss: 0.8850 - val_accuracy: 0.7142 - val_loss: 0.8150\n",
      "Epoch 36/100\n",
      "\u001b[1m224/224\u001b[0m \u001b[32m━━━━━━━━━━━━━━━━━━━━\u001b[0m\u001b[37m\u001b[0m \u001b[1m1s\u001b[0m 5ms/step - accuracy: 0.7193 - loss: 0.8790 - val_accuracy: 0.7142 - val_loss: 0.8125\n",
      "Epoch 37/100\n",
      "\u001b[1m224/224\u001b[0m \u001b[32m━━━━━━━━━━━━━━━━━━━━\u001b[0m\u001b[37m\u001b[0m \u001b[1m1s\u001b[0m 6ms/step - accuracy: 0.7262 - loss: 0.8807 - val_accuracy: 0.7117 - val_loss: 0.8146\n",
      "Epoch 38/100\n",
      "\u001b[1m224/224\u001b[0m \u001b[32m━━━━━━━━━━━━━━━━━━━━\u001b[0m\u001b[37m\u001b[0m \u001b[1m1s\u001b[0m 6ms/step - accuracy: 0.7220 - loss: 0.8763 - val_accuracy: 0.7120 - val_loss: 0.8132\n",
      "Epoch 39/100\n",
      "\u001b[1m224/224\u001b[0m \u001b[32m━━━━━━━━━━━━━━━━━━━━\u001b[0m\u001b[37m\u001b[0m \u001b[1m1s\u001b[0m 5ms/step - accuracy: 0.7290 - loss: 0.8762 - val_accuracy: 0.7137 - val_loss: 0.8115\n",
      "Epoch 40/100\n",
      "\u001b[1m224/224\u001b[0m \u001b[32m━━━━━━━━━━━━━━━━━━━━\u001b[0m\u001b[37m\u001b[0m \u001b[1m1s\u001b[0m 6ms/step - accuracy: 0.7276 - loss: 0.8698 - val_accuracy: 0.7114 - val_loss: 0.8145\n",
      "Epoch 41/100\n",
      "\u001b[1m224/224\u001b[0m \u001b[32m━━━━━━━━━━━━━━━━━━━━\u001b[0m\u001b[37m\u001b[0m \u001b[1m1s\u001b[0m 6ms/step - accuracy: 0.7266 - loss: 0.8703 - val_accuracy: 0.7140 - val_loss: 0.8075\n",
      "Epoch 42/100\n",
      "\u001b[1m224/224\u001b[0m \u001b[32m━━━━━━━━━━━━━━━━━━━━\u001b[0m\u001b[37m\u001b[0m \u001b[1m1s\u001b[0m 5ms/step - accuracy: 0.7292 - loss: 0.8697 - val_accuracy: 0.7128 - val_loss: 0.8079\n",
      "Epoch 43/100\n",
      "\u001b[1m224/224\u001b[0m \u001b[32m━━━━━━━━━━━━━━━━━━━━\u001b[0m\u001b[37m\u001b[0m \u001b[1m1s\u001b[0m 6ms/step - accuracy: 0.7287 - loss: 0.8702 - val_accuracy: 0.7131 - val_loss: 0.8084\n",
      "Epoch 44/100\n",
      "\u001b[1m224/224\u001b[0m \u001b[32m━━━━━━━━━━━━━━━━━━━━\u001b[0m\u001b[37m\u001b[0m \u001b[1m1s\u001b[0m 6ms/step - accuracy: 0.7256 - loss: 0.8679 - val_accuracy: 0.7117 - val_loss: 0.8108\n",
      "Epoch 45/100\n",
      "\u001b[1m224/224\u001b[0m \u001b[32m━━━━━━━━━━━━━━━━━━━━\u001b[0m\u001b[37m\u001b[0m \u001b[1m1s\u001b[0m 6ms/step - accuracy: 0.7316 - loss: 0.8632 - val_accuracy: 0.7120 - val_loss: 0.8101\n",
      "Epoch 46/100\n",
      "\u001b[1m224/224\u001b[0m \u001b[32m━━━━━━━━━━━━━━━━━━━━\u001b[0m\u001b[37m\u001b[0m \u001b[1m1s\u001b[0m 5ms/step - accuracy: 0.7328 - loss: 0.8631 - val_accuracy: 0.7092 - val_loss: 0.8136\n"
     ]
    }
   ],
   "source": [
    "# Create and train the model\n",
    "model = build_the_model(X_train_tfidf.shape[1], num_classes)\n",
    "# model.summary\n",
    "\n",
    "# Define early stopping callback\n",
    "early_stopping = EarlyStopping(\n",
    "    monitor='val_loss',\n",
    "    patience=5,\n",
    "    restore_best_weights=True,\n",
    "    mode='min',\n",
    ")\n",
    "\n",
    "train_the_model = model.fit(\n",
    "    X_train_tfidf,\n",
    "    y_train_categorical,\n",
    "    epochs=100,\n",
    "    batch_size=64,\n",
    "    validation_split=0.2,\n",
    "    callbacks=[early_stopping],\n",
    "    class_weight=class_weight_dict,\n",
    "    verbose=1\n",
    ")"
   ]
  },
  {
   "cell_type": "code",
   "execution_count": 156,
   "metadata": {},
   "outputs": [
    {
     "data": {
      "image/png": "[encoded data removed]",
      "text/plain": [
       "<Figure size 1200x500 with 2 Axes>"
      ]
     },
     "metadata": {},
     "output_type": "display_data"
    }
   ],
   "source": [
    "# Plot the training history\n",
    "plt.figure(figsize=(12, 5))\n",
    "plt.subplot(1, 2, 1)\n",
    "plt.plot(train_the_model.history['accuracy'])\n",
    "plt.plot(train_the_model.history['val_accuracy'])\n",
    "plt.title('Model Accuracy')\n",
    "plt.ylabel('Accuracy')\n",
    "plt.xlabel('Epoch')\n",
    "plt.legend(['Train', 'Validation'], loc='upper left')\n",
    "\n",
    "plt.subplot(1, 2, 2)\n",
    "plt.plot(train_the_model.history['loss'])\n",
    "plt.plot(train_the_model.history['val_loss'])\n",
    "plt.title('Model Loss')\n",
    "plt.ylabel('Loss')\n",
    "plt.xlabel('Epoch')\n",
    "plt.legend(['Train', 'Validation'], loc='upper right')\n",
    "plt.tight_layout()\n",
    "plt.show()\n",
    "plt.close()"
   ]
  },
  {
   "cell_type": "code",
   "execution_count": 157,
   "metadata": {},
   "outputs": [
    {
     "name": "stdout",
     "output_type": "stream",
     "text": [
      "\u001b[1m140/140\u001b[0m \u001b[32m━━━━━━━━━━━━━━━━━━━━\u001b[0m\u001b[37m\u001b[0m \u001b[1m0s\u001b[0m 3ms/step\n",
      "\n",
      "Model Evaluation:\n",
      "Accuracy: 0.7132\n",
      "\n",
      "Classification Report:\n",
      "              precision    recall  f1-score   support\n",
      "\n",
      "           0       0.92      0.80      0.86      3050\n",
      "           1       0.34      0.31      0.32       711\n",
      "           2       0.45      0.75      0.56       705\n",
      "\n",
      "    accuracy                           0.71      4466\n",
      "   macro avg       0.57      0.62      0.58      4466\n",
      "weighted avg       0.75      0.71      0.72      4466\n",
      "\n"
     ]
    }
   ],
   "source": [
    "y_pred_probs = model.predict(X_test_tfidf)\n",
    "y_predict = np.argmax(y_pred_probs, axis=1)\n",
    "\n",
    "# Print evaluation metrics\n",
    "print(\"\\nModel Evaluation:\")\n",
    "print(f\"Accuracy: {accuracy_score(y_test_encoded, y_predict):.4f}\")\n",
    "print(\"\\nClassification Report:\")\n",
    "print(classification_report(y_test_encoded, y_predict))"
   ]
  },
  {
   "cell_type": "code",
   "execution_count": 158,
   "metadata": {},
   "outputs": [
    {
     "data": {
      "image/png": "[encoded data removed]",
      "text/plain": [
       "<Figure size 1000x800 with 2 Axes>"
      ]
     },
     "metadata": {},
     "output_type": "display_data"
    }
   ],
   "source": [
    "# confusion matrix plot\n",
    "cm = confusion_matrix(y_test_encoded, y_predict)\n",
    "plt.figure(figsize=(10, 8))\n",
    "sns.heatmap(cm, annot=True, fmt='d', cmap='Blues')\n",
    "plt.title('Confusion Matrix')\n",
    "plt.ylabel('True Label')\n",
    "plt.xlabel('Predicted Label')\n",
    "plt.show()\n",
    "plt.close()"
   ]
  },
  {
   "cell_type": "markdown",
   "metadata": {},
   "source": [
    "## Model Prediction"
   ]
  },
  {
   "cell_type": "code",
   "execution_count": 159,
   "metadata": {},
   "outputs": [],
   "source": [
    "# Function to predict rating for a new review\n",
    "def predict_rating(review_text):\n",
    "    # Preprocess the review\n",
    "    processed_review = preprocess_text(review_text)\n",
    "\n",
    "    # Transform to TF-IDF features\n",
    "    review_tfidf = tfidf_vectorizer.transform([processed_review]).toarray()\n",
    "\n",
    "    # Make prediction\n",
    "    pred_probs = model.predict(review_tfidf)[0]\n",
    "    pred_class = np.argmax(pred_probs)\n",
    "\n",
    "    # Map back to original rating (add 1 since we subtracted 1 earlier)\n",
    "    predicted_rating = label_encoder.inverse_transform([pred_class])[0]\n",
    "\n",
    "    return predicted_rating, pred_probs"
   ]
  },
  {
   "cell_type": "code",
   "execution_count": 160,
   "metadata": {},
   "outputs": [
    {
     "name": "stdout",
     "output_type": "stream",
     "text": [
      "\u001b[1m1/1\u001b[0m \u001b[32m━━━━━━━━━━━━━━━━━━━━\u001b[0m\u001b[37m\u001b[0m \u001b[1m0s\u001b[0m 69ms/step\n",
      "Review: \n",
      " Flying with SkyJet Airways in business class from London to Tokyo was a dream. The seats were fully lie-flat, the food was gourmet quality, and the flight attendants were incredibly attentive. I especially appreciated the amenity kit and fast Wi-Fi. Worth every penny!\n",
      "Rating: \n",
      " 2\n",
      "Confidence: \n",
      " [0.10753693 0.40603212 0.4864309 ]\n",
      "\u001b[1m1/1\u001b[0m \u001b[32m━━━━━━━━━━━━━━━━━━━━\u001b[0m\u001b[37m\u001b[0m \u001b[1m0s\u001b[0m 35ms/step\n",
      "Review: \n",
      " Absolutely the worst experience with AeroLink. My flight from Chicago to Dallas was delayed for 6 hours with zero communication. Once onboard, the seats were cramped, dirty, and the staff were rude. No compensation or apology. Never again.\n",
      "Rating: \n",
      " 0\n",
      "Confidence: \n",
      " [0.91523737 0.07347102 0.01129161]\n",
      "\u001b[1m1/1\u001b[0m \u001b[32m━━━━━━━━━━━━━━━━━━━━\u001b[0m\u001b[37m\u001b[0m \u001b[1m0s\u001b[0m 39ms/step\n",
      "Review: \n",
      " I flew with JetSaver from Berlin to Madrid. It was fine for a budget airline—nothing special. The check-in process was slow, but we departed on time. No in-flight entertainment, and food was overpriced, but the staff were polite. You get what you pay for.\n",
      "Rating: \n",
      " 1\n",
      "Confidence: \n",
      " [0.2047981  0.42501476 0.37018713]\n",
      "\u001b[1m1/1\u001b[0m \u001b[32m━━━━━━━━━━━━━━━━━━━━\u001b[0m\u001b[37m\u001b[0m \u001b[1m0s\u001b[0m 37ms/step\n",
      "Review: \n",
      " We flew GlobalWings from New York to Paris with our two kids, and it was surprisingly smooth. The staff were very helpful with the children, the in-flight entertainment had great kid-friendly options, and we landed early. Will definitely fly with them again!\n",
      "Rating: \n",
      " 2\n",
      "Confidence: \n",
      " [0.05361995 0.35424575 0.5921343 ]\n",
      "\u001b[1m1/1\u001b[0m \u001b[32m━━━━━━━━━━━━━━━━━━━━\u001b[0m\u001b[37m\u001b[0m \u001b[1m0s\u001b[0m 38ms/step\n",
      "Review: \n",
      " Missed my connecting flight with AirNova because of a delayed inbound flight, and the ground staff offered no assistance. They made me rebook at my own cost. Poor customer service and lack of accountability. Extremely disappointed.\n",
      "Rating: \n",
      " 0\n",
      "Confidence: \n",
      " [0.7732457  0.1781648  0.04858945]\n"
     ]
    }
   ],
   "source": [
    "example_text = [\n",
    "    \"Flying with SkyJet Airways in business class from London to Tokyo was a dream. The seats were fully lie-flat, the food was gourmet quality, and the flight attendants were incredibly attentive. I especially appreciated the amenity kit and fast Wi-Fi. Worth every penny!\",\n",
    "    \"Absolutely the worst experience with AeroLink. My flight from Chicago to Dallas was delayed for 6 hours with zero communication. Once onboard, the seats were cramped, dirty, and the staff were rude. No compensation or apology. Never again.\",\n",
    "    \"I flew with JetSaver from Berlin to Madrid. It was fine for a budget airline—nothing special. The check-in process was slow, but we departed on time. No in-flight entertainment, and food was overpriced, but the staff were polite. You get what you pay for.\",\n",
    "    \"We flew GlobalWings from New York to Paris with our two kids, and it was surprisingly smooth. The staff were very helpful with the children, the in-flight entertainment had great kid-friendly options, and we landed early. Will definitely fly with them again!\",\n",
    "    \"Missed my connecting flight with AirNova because of a delayed inbound flight, and the ground staff offered no assistance. They made me rebook at my own cost. Poor customer service and lack of accountability. Extremely disappointed.\"\n",
    "]\n",
    "\n",
    "for review in example_text:\n",
    "  rating, probs = predict_rating(review)\n",
    "  print(f\"Review: \\n {review}\")\n",
    "  print(f\"Rating: \\n {rating}\")\n",
    "  print(f\"Confidence: \\n {probs}\")"
   ]
  },
  {
   "cell_type": "code",
   "execution_count": null,
   "metadata": {},
   "outputs": [],
   "source": []
  },
  {
   "cell_type": "code",
   "execution_count": null,
   "metadata": {},
   "outputs": [],
   "source": []
  },
  {
   "cell_type": "code",
   "execution_count": null,
   "metadata": {},
   "outputs": [],
   "source": []
  },
  {
   "cell_type": "code",
   "execution_count": null,
   "metadata": {},
   "outputs": [],
   "source": []
  },
  {
   "cell_type": "code",
   "execution_count": null,
   "metadata": {},
   "outputs": [],
   "source": []
  }
 ],
 "metadata": {
  "kernelspec": {
   "display_name": "venv",
   "language": "python",
   "name": "python3"
  },
  "language_info": {
   "codemirror_mode": {
    "name": "ipython",
    "version": 3
   },
   "file_extension": ".py",
   "mimetype": "text/x-python",
   "name": "python",
   "nbconvert_exporter": "python",
   "pygments_lexer": "ipython3",
   "version": "3.9.7"
  }
 },
 "nbformat": 4,
 "nbformat_minor": 2
}
